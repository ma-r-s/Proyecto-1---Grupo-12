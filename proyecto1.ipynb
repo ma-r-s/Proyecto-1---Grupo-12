{
  "cells": [
    {
      "cell_type": "markdown",
      "metadata": {
        "id": "0zZQFfOA2RYp"
      },
      "source": [
        "# Importación de librerías"
      ]
    },
    {
      "cell_type": "code",
      "execution_count": null,
      "metadata": {
        "id": "zzPyrzxl2RYs"
      },
      "outputs": [],
      "source": [
        "import pandas as pd\n",
        "import re\n",
        "import nltk\n",
        "\n",
        "from sklearn.metrics import accuracy_score, recall_score, classification_report\n",
        "from sklearn.linear_model import LogisticRegression\n",
        "from nltk.corpus import stopwords\n",
        "from nltk.stem import SnowballStemmer\n",
        "from sklearn.feature_extraction.text import TfidfVectorizer\n",
        "from sklearn.model_selection import train_test_split\n",
        "from scipy.sparse import vstack"
      ]
    },
    {
      "cell_type": "markdown",
      "metadata": {
        "id": "CSQPCHx52RYu"
      },
      "source": [
        "# Carga de datos"
      ]
    },
    {
      "cell_type": "code",
      "execution_count": null,
      "metadata": {
        "id": "8FhBVuV52RYv"
      },
      "outputs": [],
      "source": [
        "df_train1 = pd.read_csv('./data/tipo1_entrenamiento_estudiantes.csv')"
      ]
    },
    {
      "cell_type": "code",
      "execution_count": null,
      "metadata": {
        "id": "sQh1DHA32RYv"
      },
      "outputs": [],
      "source": [
        "df_train2 = pd.read_csv('./data/tipo2_entrenamiento_estudiantes.csv')"
      ]
    },
    {
      "cell_type": "markdown",
      "metadata": {
        "id": "tKaaqtTx2RYw"
      },
      "source": [
        "# Entendimiento de los datos"
      ]
    },
    {
      "cell_type": "markdown",
      "metadata": {
        "id": "NZ6nnVfA2RYw"
      },
      "source": [
        "## Perfilamiento de los datos"
      ]
    },
    {
      "cell_type": "code",
      "execution_count": null,
      "metadata": {
        "id": "AX6pWj5l2RYx",
        "outputId": "21547f4a-722b-41d8-e77f-c5453f5f8bdb",
        "colab": {
          "base_uri": "https://localhost:8080/"
        }
      },
      "outputs": [
        {
          "output_type": "execute_result",
          "data": {
            "text/plain": [
              "(7875, 2)"
            ]
          },
          "metadata": {},
          "execution_count": 7
        }
      ],
      "source": [
        "df_train1.shape"
      ]
    },
    {
      "cell_type": "code",
      "execution_count": null,
      "metadata": {
        "id": "ydZCBElL2RYy",
        "outputId": "cfe10338-57b9-4b7d-8a7e-e481e0f5014c",
        "colab": {
          "base_uri": "https://localhost:8080/",
          "height": 206
        }
      },
      "outputs": [
        {
          "output_type": "execute_result",
          "data": {
            "text/plain": [
              "                                              Review  Class\n",
              "0  Nos alojamos en una casa alquilada en la ciuda...      4\n",
              "1  La comida está bien, pero nada especial. Yo te...      3\n",
              "2  En mi opinión, no es una como muchos usuarios ...      3\n",
              "3  esta curiosa forma que asemeja una silla de mo...      4\n",
              "4  Lo mejor era la limonada. Me gusto la comida d...      2"
            ],
            "text/html": [
              "\n",
              "  <div id=\"df-0dfb9816-ef83-4324-ade8-f327ad0b6987\" class=\"colab-df-container\">\n",
              "    <div>\n",
              "<style scoped>\n",
              "    .dataframe tbody tr th:only-of-type {\n",
              "        vertical-align: middle;\n",
              "    }\n",
              "\n",
              "    .dataframe tbody tr th {\n",
              "        vertical-align: top;\n",
              "    }\n",
              "\n",
              "    .dataframe thead th {\n",
              "        text-align: right;\n",
              "    }\n",
              "</style>\n",
              "<table border=\"1\" class=\"dataframe\">\n",
              "  <thead>\n",
              "    <tr style=\"text-align: right;\">\n",
              "      <th></th>\n",
              "      <th>Review</th>\n",
              "      <th>Class</th>\n",
              "    </tr>\n",
              "  </thead>\n",
              "  <tbody>\n",
              "    <tr>\n",
              "      <th>0</th>\n",
              "      <td>Nos alojamos en una casa alquilada en la ciuda...</td>\n",
              "      <td>4</td>\n",
              "    </tr>\n",
              "    <tr>\n",
              "      <th>1</th>\n",
              "      <td>La comida está bien, pero nada especial. Yo te...</td>\n",
              "      <td>3</td>\n",
              "    </tr>\n",
              "    <tr>\n",
              "      <th>2</th>\n",
              "      <td>En mi opinión, no es una como muchos usuarios ...</td>\n",
              "      <td>3</td>\n",
              "    </tr>\n",
              "    <tr>\n",
              "      <th>3</th>\n",
              "      <td>esta curiosa forma que asemeja una silla de mo...</td>\n",
              "      <td>4</td>\n",
              "    </tr>\n",
              "    <tr>\n",
              "      <th>4</th>\n",
              "      <td>Lo mejor era la limonada. Me gusto la comida d...</td>\n",
              "      <td>2</td>\n",
              "    </tr>\n",
              "  </tbody>\n",
              "</table>\n",
              "</div>\n",
              "    <div class=\"colab-df-buttons\">\n",
              "\n",
              "  <div class=\"colab-df-container\">\n",
              "    <button class=\"colab-df-convert\" onclick=\"convertToInteractive('df-0dfb9816-ef83-4324-ade8-f327ad0b6987')\"\n",
              "            title=\"Convert this dataframe to an interactive table.\"\n",
              "            style=\"display:none;\">\n",
              "\n",
              "  <svg xmlns=\"http://www.w3.org/2000/svg\" height=\"24px\" viewBox=\"0 -960 960 960\">\n",
              "    <path d=\"M120-120v-720h720v720H120Zm60-500h600v-160H180v160Zm220 220h160v-160H400v160Zm0 220h160v-160H400v160ZM180-400h160v-160H180v160Zm440 0h160v-160H620v160ZM180-180h160v-160H180v160Zm440 0h160v-160H620v160Z\"/>\n",
              "  </svg>\n",
              "    </button>\n",
              "\n",
              "  <style>\n",
              "    .colab-df-container {\n",
              "      display:flex;\n",
              "      gap: 12px;\n",
              "    }\n",
              "\n",
              "    .colab-df-convert {\n",
              "      background-color: #E8F0FE;\n",
              "      border: none;\n",
              "      border-radius: 50%;\n",
              "      cursor: pointer;\n",
              "      display: none;\n",
              "      fill: #1967D2;\n",
              "      height: 32px;\n",
              "      padding: 0 0 0 0;\n",
              "      width: 32px;\n",
              "    }\n",
              "\n",
              "    .colab-df-convert:hover {\n",
              "      background-color: #E2EBFA;\n",
              "      box-shadow: 0px 1px 2px rgba(60, 64, 67, 0.3), 0px 1px 3px 1px rgba(60, 64, 67, 0.15);\n",
              "      fill: #174EA6;\n",
              "    }\n",
              "\n",
              "    .colab-df-buttons div {\n",
              "      margin-bottom: 4px;\n",
              "    }\n",
              "\n",
              "    [theme=dark] .colab-df-convert {\n",
              "      background-color: #3B4455;\n",
              "      fill: #D2E3FC;\n",
              "    }\n",
              "\n",
              "    [theme=dark] .colab-df-convert:hover {\n",
              "      background-color: #434B5C;\n",
              "      box-shadow: 0px 1px 3px 1px rgba(0, 0, 0, 0.15);\n",
              "      filter: drop-shadow(0px 1px 2px rgba(0, 0, 0, 0.3));\n",
              "      fill: #FFFFFF;\n",
              "    }\n",
              "  </style>\n",
              "\n",
              "    <script>\n",
              "      const buttonEl =\n",
              "        document.querySelector('#df-0dfb9816-ef83-4324-ade8-f327ad0b6987 button.colab-df-convert');\n",
              "      buttonEl.style.display =\n",
              "        google.colab.kernel.accessAllowed ? 'block' : 'none';\n",
              "\n",
              "      async function convertToInteractive(key) {\n",
              "        const element = document.querySelector('#df-0dfb9816-ef83-4324-ade8-f327ad0b6987');\n",
              "        const dataTable =\n",
              "          await google.colab.kernel.invokeFunction('convertToInteractive',\n",
              "                                                    [key], {});\n",
              "        if (!dataTable) return;\n",
              "\n",
              "        const docLinkHtml = 'Like what you see? Visit the ' +\n",
              "          '<a target=\"_blank\" href=https://colab.research.google.com/notebooks/data_table.ipynb>data table notebook</a>'\n",
              "          + ' to learn more about interactive tables.';\n",
              "        element.innerHTML = '';\n",
              "        dataTable['output_type'] = 'display_data';\n",
              "        await google.colab.output.renderOutput(dataTable, element);\n",
              "        const docLink = document.createElement('div');\n",
              "        docLink.innerHTML = docLinkHtml;\n",
              "        element.appendChild(docLink);\n",
              "      }\n",
              "    </script>\n",
              "  </div>\n",
              "\n",
              "\n",
              "<div id=\"df-441ab3c9-7e84-49d4-913b-256b98ef72a0\">\n",
              "  <button class=\"colab-df-quickchart\" onclick=\"quickchart('df-441ab3c9-7e84-49d4-913b-256b98ef72a0')\"\n",
              "            title=\"Suggest charts\"\n",
              "            style=\"display:none;\">\n",
              "\n",
              "<svg xmlns=\"http://www.w3.org/2000/svg\" height=\"24px\"viewBox=\"0 0 24 24\"\n",
              "     width=\"24px\">\n",
              "    <g>\n",
              "        <path d=\"M19 3H5c-1.1 0-2 .9-2 2v14c0 1.1.9 2 2 2h14c1.1 0 2-.9 2-2V5c0-1.1-.9-2-2-2zM9 17H7v-7h2v7zm4 0h-2V7h2v10zm4 0h-2v-4h2v4z\"/>\n",
              "    </g>\n",
              "</svg>\n",
              "  </button>\n",
              "\n",
              "<style>\n",
              "  .colab-df-quickchart {\n",
              "      --bg-color: #E8F0FE;\n",
              "      --fill-color: #1967D2;\n",
              "      --hover-bg-color: #E2EBFA;\n",
              "      --hover-fill-color: #174EA6;\n",
              "      --disabled-fill-color: #AAA;\n",
              "      --disabled-bg-color: #DDD;\n",
              "  }\n",
              "\n",
              "  [theme=dark] .colab-df-quickchart {\n",
              "      --bg-color: #3B4455;\n",
              "      --fill-color: #D2E3FC;\n",
              "      --hover-bg-color: #434B5C;\n",
              "      --hover-fill-color: #FFFFFF;\n",
              "      --disabled-bg-color: #3B4455;\n",
              "      --disabled-fill-color: #666;\n",
              "  }\n",
              "\n",
              "  .colab-df-quickchart {\n",
              "    background-color: var(--bg-color);\n",
              "    border: none;\n",
              "    border-radius: 50%;\n",
              "    cursor: pointer;\n",
              "    display: none;\n",
              "    fill: var(--fill-color);\n",
              "    height: 32px;\n",
              "    padding: 0;\n",
              "    width: 32px;\n",
              "  }\n",
              "\n",
              "  .colab-df-quickchart:hover {\n",
              "    background-color: var(--hover-bg-color);\n",
              "    box-shadow: 0 1px 2px rgba(60, 64, 67, 0.3), 0 1px 3px 1px rgba(60, 64, 67, 0.15);\n",
              "    fill: var(--button-hover-fill-color);\n",
              "  }\n",
              "\n",
              "  .colab-df-quickchart-complete:disabled,\n",
              "  .colab-df-quickchart-complete:disabled:hover {\n",
              "    background-color: var(--disabled-bg-color);\n",
              "    fill: var(--disabled-fill-color);\n",
              "    box-shadow: none;\n",
              "  }\n",
              "\n",
              "  .colab-df-spinner {\n",
              "    border: 2px solid var(--fill-color);\n",
              "    border-color: transparent;\n",
              "    border-bottom-color: var(--fill-color);\n",
              "    animation:\n",
              "      spin 1s steps(1) infinite;\n",
              "  }\n",
              "\n",
              "  @keyframes spin {\n",
              "    0% {\n",
              "      border-color: transparent;\n",
              "      border-bottom-color: var(--fill-color);\n",
              "      border-left-color: var(--fill-color);\n",
              "    }\n",
              "    20% {\n",
              "      border-color: transparent;\n",
              "      border-left-color: var(--fill-color);\n",
              "      border-top-color: var(--fill-color);\n",
              "    }\n",
              "    30% {\n",
              "      border-color: transparent;\n",
              "      border-left-color: var(--fill-color);\n",
              "      border-top-color: var(--fill-color);\n",
              "      border-right-color: var(--fill-color);\n",
              "    }\n",
              "    40% {\n",
              "      border-color: transparent;\n",
              "      border-right-color: var(--fill-color);\n",
              "      border-top-color: var(--fill-color);\n",
              "    }\n",
              "    60% {\n",
              "      border-color: transparent;\n",
              "      border-right-color: var(--fill-color);\n",
              "    }\n",
              "    80% {\n",
              "      border-color: transparent;\n",
              "      border-right-color: var(--fill-color);\n",
              "      border-bottom-color: var(--fill-color);\n",
              "    }\n",
              "    90% {\n",
              "      border-color: transparent;\n",
              "      border-bottom-color: var(--fill-color);\n",
              "    }\n",
              "  }\n",
              "</style>\n",
              "\n",
              "  <script>\n",
              "    async function quickchart(key) {\n",
              "      const quickchartButtonEl =\n",
              "        document.querySelector('#' + key + ' button');\n",
              "      quickchartButtonEl.disabled = true;  // To prevent multiple clicks.\n",
              "      quickchartButtonEl.classList.add('colab-df-spinner');\n",
              "      try {\n",
              "        const charts = await google.colab.kernel.invokeFunction(\n",
              "            'suggestCharts', [key], {});\n",
              "      } catch (error) {\n",
              "        console.error('Error during call to suggestCharts:', error);\n",
              "      }\n",
              "      quickchartButtonEl.classList.remove('colab-df-spinner');\n",
              "      quickchartButtonEl.classList.add('colab-df-quickchart-complete');\n",
              "    }\n",
              "    (() => {\n",
              "      let quickchartButtonEl =\n",
              "        document.querySelector('#df-441ab3c9-7e84-49d4-913b-256b98ef72a0 button');\n",
              "      quickchartButtonEl.style.display =\n",
              "        google.colab.kernel.accessAllowed ? 'block' : 'none';\n",
              "    })();\n",
              "  </script>\n",
              "</div>\n",
              "\n",
              "    </div>\n",
              "  </div>\n"
            ],
            "application/vnd.google.colaboratory.intrinsic+json": {
              "type": "dataframe",
              "variable_name": "df_train1",
              "summary": "{\n  \"name\": \"df_train1\",\n  \"rows\": 7875,\n  \"fields\": [\n    {\n      \"column\": \"Review\",\n      \"properties\": {\n        \"dtype\": \"string\",\n        \"num_unique_values\": 7804,\n        \"samples\": [\n          \"Solo pasamos a tomar un Mojito ,estaba llenisimo y aun asi tocan musica un grupo en un rincon ..mejor es salir la calle a disfrutar tu bebida y estar con el buen ambiente que hay..\",\n          \"En general estuvo muy bien la estancia y recomendar\\u00eda incluir el desayuno en la reservaci\\u00f3n porque es bastante bueno.  Lo que no me pareci\\u00f3 tan bueno fue que hab\\u00eda cafetera en la habitaci\\u00f3n pero no hab\\u00eda caf\\u00e9, la cabecera golpeaba con el muro y no me mandaron la factura que solicit\\u00e9 estando ah\\u00ed hasta una semana despu\\u00e9s y eso porque tuve que recordarles. \",\n          \"Estuve en el Melia Cohiba la semana pasada y si bien el hotel es correcto la decepci\\u00b4\\u00b4on fue grande. Tengo una tarjeta Mas Platino y me intentaron cobrar internet, el mini bar no alcoholico de la habitacion, que estan incluidos, y no respetaron el 10% de descuento en restaurante a la carta. Lo mas sorprendente es que nadie sabia las ventajas de esta tarjeta incluida la jefa de recepcion. Al final no respetaron la mitad de las cosas. Pongo reclamacion en Solmelia pero es seguro que no vuelvo mas.\"\n        ],\n        \"semantic_type\": \"\",\n        \"description\": \"\"\n      }\n    },\n    {\n      \"column\": \"Class\",\n      \"properties\": {\n        \"dtype\": \"number\",\n        \"std\": 1,\n        \"min\": 1,\n        \"max\": 5,\n        \"num_unique_values\": 5,\n        \"samples\": [\n          3,\n          5,\n          2\n        ],\n        \"semantic_type\": \"\",\n        \"description\": \"\"\n      }\n    }\n  ]\n}"
            }
          },
          "metadata": {},
          "execution_count": 8
        }
      ],
      "source": [
        "df_train1.head()"
      ]
    },
    {
      "cell_type": "code",
      "execution_count": null,
      "metadata": {
        "id": "Bg7R0GKH2RYy",
        "outputId": "50f584c9-71c0-4eea-ed42-704c46a0b62a",
        "colab": {
          "base_uri": "https://localhost:8080/"
        }
      },
      "outputs": [
        {
          "output_type": "execute_result",
          "data": {
            "text/plain": [
              "(7875, 2)"
            ]
          },
          "metadata": {},
          "execution_count": 9
        }
      ],
      "source": [
        "df_train2.shape"
      ]
    },
    {
      "cell_type": "code",
      "execution_count": null,
      "metadata": {
        "id": "Sg2gU5qw2RYz",
        "outputId": "7149d7fe-536b-4ed6-eb5d-e02c4f9a278a",
        "colab": {
          "base_uri": "https://localhost:8080/",
          "height": 206
        }
      },
      "outputs": [
        {
          "output_type": "execute_result",
          "data": {
            "text/plain": [
              "                                              Review  Class\n",
              "0  Muy buena atención y aclaración de dudas por p...      5\n",
              "1  Buen hotel si están obligados a estar cerca de...      3\n",
              "2  Es un lugar muy lindo para fotografías, visite...      5\n",
              "3  Abusados con la factura de alimentos siempre s...      3\n",
              "4  Tuvimos un par de personas en el grupo que rea...      3"
            ],
            "text/html": [
              "\n",
              "  <div id=\"df-8c8c94f8-cf64-45f1-8bad-1f3cd1a29489\" class=\"colab-df-container\">\n",
              "    <div>\n",
              "<style scoped>\n",
              "    .dataframe tbody tr th:only-of-type {\n",
              "        vertical-align: middle;\n",
              "    }\n",
              "\n",
              "    .dataframe tbody tr th {\n",
              "        vertical-align: top;\n",
              "    }\n",
              "\n",
              "    .dataframe thead th {\n",
              "        text-align: right;\n",
              "    }\n",
              "</style>\n",
              "<table border=\"1\" class=\"dataframe\">\n",
              "  <thead>\n",
              "    <tr style=\"text-align: right;\">\n",
              "      <th></th>\n",
              "      <th>Review</th>\n",
              "      <th>Class</th>\n",
              "    </tr>\n",
              "  </thead>\n",
              "  <tbody>\n",
              "    <tr>\n",
              "      <th>0</th>\n",
              "      <td>Muy buena atención y aclaración de dudas por p...</td>\n",
              "      <td>5</td>\n",
              "    </tr>\n",
              "    <tr>\n",
              "      <th>1</th>\n",
              "      <td>Buen hotel si están obligados a estar cerca de...</td>\n",
              "      <td>3</td>\n",
              "    </tr>\n",
              "    <tr>\n",
              "      <th>2</th>\n",
              "      <td>Es un lugar muy lindo para fotografías, visite...</td>\n",
              "      <td>5</td>\n",
              "    </tr>\n",
              "    <tr>\n",
              "      <th>3</th>\n",
              "      <td>Abusados con la factura de alimentos siempre s...</td>\n",
              "      <td>3</td>\n",
              "    </tr>\n",
              "    <tr>\n",
              "      <th>4</th>\n",
              "      <td>Tuvimos un par de personas en el grupo que rea...</td>\n",
              "      <td>3</td>\n",
              "    </tr>\n",
              "  </tbody>\n",
              "</table>\n",
              "</div>\n",
              "    <div class=\"colab-df-buttons\">\n",
              "\n",
              "  <div class=\"colab-df-container\">\n",
              "    <button class=\"colab-df-convert\" onclick=\"convertToInteractive('df-8c8c94f8-cf64-45f1-8bad-1f3cd1a29489')\"\n",
              "            title=\"Convert this dataframe to an interactive table.\"\n",
              "            style=\"display:none;\">\n",
              "\n",
              "  <svg xmlns=\"http://www.w3.org/2000/svg\" height=\"24px\" viewBox=\"0 -960 960 960\">\n",
              "    <path d=\"M120-120v-720h720v720H120Zm60-500h600v-160H180v160Zm220 220h160v-160H400v160Zm0 220h160v-160H400v160ZM180-400h160v-160H180v160Zm440 0h160v-160H620v160ZM180-180h160v-160H180v160Zm440 0h160v-160H620v160Z\"/>\n",
              "  </svg>\n",
              "    </button>\n",
              "\n",
              "  <style>\n",
              "    .colab-df-container {\n",
              "      display:flex;\n",
              "      gap: 12px;\n",
              "    }\n",
              "\n",
              "    .colab-df-convert {\n",
              "      background-color: #E8F0FE;\n",
              "      border: none;\n",
              "      border-radius: 50%;\n",
              "      cursor: pointer;\n",
              "      display: none;\n",
              "      fill: #1967D2;\n",
              "      height: 32px;\n",
              "      padding: 0 0 0 0;\n",
              "      width: 32px;\n",
              "    }\n",
              "\n",
              "    .colab-df-convert:hover {\n",
              "      background-color: #E2EBFA;\n",
              "      box-shadow: 0px 1px 2px rgba(60, 64, 67, 0.3), 0px 1px 3px 1px rgba(60, 64, 67, 0.15);\n",
              "      fill: #174EA6;\n",
              "    }\n",
              "\n",
              "    .colab-df-buttons div {\n",
              "      margin-bottom: 4px;\n",
              "    }\n",
              "\n",
              "    [theme=dark] .colab-df-convert {\n",
              "      background-color: #3B4455;\n",
              "      fill: #D2E3FC;\n",
              "    }\n",
              "\n",
              "    [theme=dark] .colab-df-convert:hover {\n",
              "      background-color: #434B5C;\n",
              "      box-shadow: 0px 1px 3px 1px rgba(0, 0, 0, 0.15);\n",
              "      filter: drop-shadow(0px 1px 2px rgba(0, 0, 0, 0.3));\n",
              "      fill: #FFFFFF;\n",
              "    }\n",
              "  </style>\n",
              "\n",
              "    <script>\n",
              "      const buttonEl =\n",
              "        document.querySelector('#df-8c8c94f8-cf64-45f1-8bad-1f3cd1a29489 button.colab-df-convert');\n",
              "      buttonEl.style.display =\n",
              "        google.colab.kernel.accessAllowed ? 'block' : 'none';\n",
              "\n",
              "      async function convertToInteractive(key) {\n",
              "        const element = document.querySelector('#df-8c8c94f8-cf64-45f1-8bad-1f3cd1a29489');\n",
              "        const dataTable =\n",
              "          await google.colab.kernel.invokeFunction('convertToInteractive',\n",
              "                                                    [key], {});\n",
              "        if (!dataTable) return;\n",
              "\n",
              "        const docLinkHtml = 'Like what you see? Visit the ' +\n",
              "          '<a target=\"_blank\" href=https://colab.research.google.com/notebooks/data_table.ipynb>data table notebook</a>'\n",
              "          + ' to learn more about interactive tables.';\n",
              "        element.innerHTML = '';\n",
              "        dataTable['output_type'] = 'display_data';\n",
              "        await google.colab.output.renderOutput(dataTable, element);\n",
              "        const docLink = document.createElement('div');\n",
              "        docLink.innerHTML = docLinkHtml;\n",
              "        element.appendChild(docLink);\n",
              "      }\n",
              "    </script>\n",
              "  </div>\n",
              "\n",
              "\n",
              "<div id=\"df-75df6fa6-4da4-4b3a-9575-870e1ce503f0\">\n",
              "  <button class=\"colab-df-quickchart\" onclick=\"quickchart('df-75df6fa6-4da4-4b3a-9575-870e1ce503f0')\"\n",
              "            title=\"Suggest charts\"\n",
              "            style=\"display:none;\">\n",
              "\n",
              "<svg xmlns=\"http://www.w3.org/2000/svg\" height=\"24px\"viewBox=\"0 0 24 24\"\n",
              "     width=\"24px\">\n",
              "    <g>\n",
              "        <path d=\"M19 3H5c-1.1 0-2 .9-2 2v14c0 1.1.9 2 2 2h14c1.1 0 2-.9 2-2V5c0-1.1-.9-2-2-2zM9 17H7v-7h2v7zm4 0h-2V7h2v10zm4 0h-2v-4h2v4z\"/>\n",
              "    </g>\n",
              "</svg>\n",
              "  </button>\n",
              "\n",
              "<style>\n",
              "  .colab-df-quickchart {\n",
              "      --bg-color: #E8F0FE;\n",
              "      --fill-color: #1967D2;\n",
              "      --hover-bg-color: #E2EBFA;\n",
              "      --hover-fill-color: #174EA6;\n",
              "      --disabled-fill-color: #AAA;\n",
              "      --disabled-bg-color: #DDD;\n",
              "  }\n",
              "\n",
              "  [theme=dark] .colab-df-quickchart {\n",
              "      --bg-color: #3B4455;\n",
              "      --fill-color: #D2E3FC;\n",
              "      --hover-bg-color: #434B5C;\n",
              "      --hover-fill-color: #FFFFFF;\n",
              "      --disabled-bg-color: #3B4455;\n",
              "      --disabled-fill-color: #666;\n",
              "  }\n",
              "\n",
              "  .colab-df-quickchart {\n",
              "    background-color: var(--bg-color);\n",
              "    border: none;\n",
              "    border-radius: 50%;\n",
              "    cursor: pointer;\n",
              "    display: none;\n",
              "    fill: var(--fill-color);\n",
              "    height: 32px;\n",
              "    padding: 0;\n",
              "    width: 32px;\n",
              "  }\n",
              "\n",
              "  .colab-df-quickchart:hover {\n",
              "    background-color: var(--hover-bg-color);\n",
              "    box-shadow: 0 1px 2px rgba(60, 64, 67, 0.3), 0 1px 3px 1px rgba(60, 64, 67, 0.15);\n",
              "    fill: var(--button-hover-fill-color);\n",
              "  }\n",
              "\n",
              "  .colab-df-quickchart-complete:disabled,\n",
              "  .colab-df-quickchart-complete:disabled:hover {\n",
              "    background-color: var(--disabled-bg-color);\n",
              "    fill: var(--disabled-fill-color);\n",
              "    box-shadow: none;\n",
              "  }\n",
              "\n",
              "  .colab-df-spinner {\n",
              "    border: 2px solid var(--fill-color);\n",
              "    border-color: transparent;\n",
              "    border-bottom-color: var(--fill-color);\n",
              "    animation:\n",
              "      spin 1s steps(1) infinite;\n",
              "  }\n",
              "\n",
              "  @keyframes spin {\n",
              "    0% {\n",
              "      border-color: transparent;\n",
              "      border-bottom-color: var(--fill-color);\n",
              "      border-left-color: var(--fill-color);\n",
              "    }\n",
              "    20% {\n",
              "      border-color: transparent;\n",
              "      border-left-color: var(--fill-color);\n",
              "      border-top-color: var(--fill-color);\n",
              "    }\n",
              "    30% {\n",
              "      border-color: transparent;\n",
              "      border-left-color: var(--fill-color);\n",
              "      border-top-color: var(--fill-color);\n",
              "      border-right-color: var(--fill-color);\n",
              "    }\n",
              "    40% {\n",
              "      border-color: transparent;\n",
              "      border-right-color: var(--fill-color);\n",
              "      border-top-color: var(--fill-color);\n",
              "    }\n",
              "    60% {\n",
              "      border-color: transparent;\n",
              "      border-right-color: var(--fill-color);\n",
              "    }\n",
              "    80% {\n",
              "      border-color: transparent;\n",
              "      border-right-color: var(--fill-color);\n",
              "      border-bottom-color: var(--fill-color);\n",
              "    }\n",
              "    90% {\n",
              "      border-color: transparent;\n",
              "      border-bottom-color: var(--fill-color);\n",
              "    }\n",
              "  }\n",
              "</style>\n",
              "\n",
              "  <script>\n",
              "    async function quickchart(key) {\n",
              "      const quickchartButtonEl =\n",
              "        document.querySelector('#' + key + ' button');\n",
              "      quickchartButtonEl.disabled = true;  // To prevent multiple clicks.\n",
              "      quickchartButtonEl.classList.add('colab-df-spinner');\n",
              "      try {\n",
              "        const charts = await google.colab.kernel.invokeFunction(\n",
              "            'suggestCharts', [key], {});\n",
              "      } catch (error) {\n",
              "        console.error('Error during call to suggestCharts:', error);\n",
              "      }\n",
              "      quickchartButtonEl.classList.remove('colab-df-spinner');\n",
              "      quickchartButtonEl.classList.add('colab-df-quickchart-complete');\n",
              "    }\n",
              "    (() => {\n",
              "      let quickchartButtonEl =\n",
              "        document.querySelector('#df-75df6fa6-4da4-4b3a-9575-870e1ce503f0 button');\n",
              "      quickchartButtonEl.style.display =\n",
              "        google.colab.kernel.accessAllowed ? 'block' : 'none';\n",
              "    })();\n",
              "  </script>\n",
              "</div>\n",
              "\n",
              "    </div>\n",
              "  </div>\n"
            ],
            "application/vnd.google.colaboratory.intrinsic+json": {
              "type": "dataframe",
              "variable_name": "df_train2",
              "summary": "{\n  \"name\": \"df_train2\",\n  \"rows\": 7875,\n  \"fields\": [\n    {\n      \"column\": \"Review\",\n      \"properties\": {\n        \"dtype\": \"string\",\n        \"num_unique_values\": 7802,\n        \"samples\": [\n          \"Fascinante viaje atr\\u00e1s en el tiempo con Henequin o producci\\u00f3n de Sisal. La gu\\u00eda era encantadora y la ceynote era una ventaja a\\u00f1adida\",\n          \"Una estancia en un hotel maravilloso! El personal es amable, el desayuno de buffet es estupendo y muy bonita piscina en la azotea. Sin duda se lo recomendar\\u00eda a todo el mundo! La ubicaci\\u00f3n tambi\\u00e9n es genial, a corta distancia a pie de los lugares m\\u00e1s populares.\",\n          \"Excelente hotel, muy buena ubicaci\\u00f3n, frente al parque central de La Habana vieja, muy cerca del casco hist\\u00f3rico, de La Floridita, la Bodeguita del Medio. Es uno de los hoteles m\\u00e1s antiguos de La Habana, pero en excelente estado. El desayuno muy bueno, muy variado, con un caf\\u00e9 muy rico.\"\n        ],\n        \"semantic_type\": \"\",\n        \"description\": \"\"\n      }\n    },\n    {\n      \"column\": \"Class\",\n      \"properties\": {\n        \"dtype\": \"number\",\n        \"std\": 1,\n        \"min\": 1,\n        \"max\": 5,\n        \"num_unique_values\": 5,\n        \"samples\": [\n          3,\n          1,\n          4\n        ],\n        \"semantic_type\": \"\",\n        \"description\": \"\"\n      }\n    }\n  ]\n}"
            }
          },
          "metadata": {},
          "execution_count": 10
        }
      ],
      "source": [
        "df_train2.head()"
      ]
    },
    {
      "cell_type": "code",
      "execution_count": null,
      "metadata": {
        "id": "IqwFsIQK2RYz",
        "outputId": "d3982a6e-09ca-4988-f4a6-81fe74884055",
        "colab": {
          "base_uri": "https://localhost:8080/"
        }
      },
      "outputs": [
        {
          "output_type": "stream",
          "name": "stdout",
          "text": [
            "<class 'pandas.core.frame.DataFrame'>\n",
            "RangeIndex: 7875 entries, 0 to 7874\n",
            "Data columns (total 2 columns):\n",
            " #   Column  Non-Null Count  Dtype \n",
            "---  ------  --------------  ----- \n",
            " 0   Review  7875 non-null   object\n",
            " 1   Class   7875 non-null   int64 \n",
            "dtypes: int64(1), object(1)\n",
            "memory usage: 123.2+ KB\n",
            "<class 'pandas.core.frame.DataFrame'>\n",
            "RangeIndex: 7875 entries, 0 to 7874\n",
            "Data columns (total 2 columns):\n",
            " #   Column  Non-Null Count  Dtype \n",
            "---  ------  --------------  ----- \n",
            " 0   Review  7875 non-null   object\n",
            " 1   Class   7875 non-null   int64 \n",
            "dtypes: int64(1), object(1)\n",
            "memory usage: 123.2+ KB\n"
          ]
        },
        {
          "output_type": "execute_result",
          "data": {
            "text/plain": [
              "(None, None)"
            ]
          },
          "metadata": {},
          "execution_count": 11
        }
      ],
      "source": [
        "df_train1.info(), df_train2.info()"
      ]
    },
    {
      "cell_type": "code",
      "execution_count": null,
      "metadata": {
        "id": "GqGHesGr2RY0",
        "outputId": "f7e89d47-279a-47b7-c220-80d70158ce60",
        "colab": {
          "base_uri": "https://localhost:8080/"
        }
      },
      "outputs": [
        {
          "output_type": "execute_result",
          "data": {
            "text/plain": [
              "(             Class\n",
              " count  7875.000000\n",
              " mean      3.491683\n",
              " std       1.328275\n",
              " min       1.000000\n",
              " 25%       2.000000\n",
              " 50%       4.000000\n",
              " 75%       5.000000\n",
              " max       5.000000,\n",
              "              Class\n",
              " count  7875.000000\n",
              " mean      3.502603\n",
              " std       1.320435\n",
              " min       1.000000\n",
              " 25%       3.000000\n",
              " 50%       4.000000\n",
              " 75%       5.000000\n",
              " max       5.000000)"
            ]
          },
          "metadata": {},
          "execution_count": 12
        }
      ],
      "source": [
        "df_train1.describe(), df_train2.describe()"
      ]
    },
    {
      "cell_type": "markdown",
      "metadata": {
        "id": "qYgLT6E72RY0"
      },
      "source": [
        "## Calidad de los datos"
      ]
    },
    {
      "cell_type": "code",
      "execution_count": null,
      "metadata": {
        "id": "LZPJBL8W2RY0"
      },
      "outputs": [],
      "source": [
        "df_model_1=df_train1.copy()\n",
        "df_model_2=df_train2.copy()"
      ]
    },
    {
      "cell_type": "markdown",
      "metadata": {
        "id": "A9nxTEEt2RY1"
      },
      "source": [
        "### Completitud"
      ]
    },
    {
      "cell_type": "code",
      "execution_count": null,
      "metadata": {
        "id": "N4FpXJYe2RY1",
        "outputId": "3837c588-c37f-4a07-a0e5-c8a9e92b129f",
        "colab": {
          "base_uri": "https://localhost:8080/"
        }
      },
      "outputs": [
        {
          "output_type": "execute_result",
          "data": {
            "text/plain": [
              "Review    0.0\n",
              "Class     0.0\n",
              "dtype: float64"
            ]
          },
          "metadata": {},
          "execution_count": 14
        }
      ],
      "source": [
        "# Cálculo de porcentaje de valores nulos por columna\n",
        "((df_model_1.isnull().sum()/df_model_1.shape[0])).sort_values(ascending=False)"
      ]
    },
    {
      "cell_type": "code",
      "execution_count": null,
      "metadata": {
        "id": "CCSPRPwa2RY2",
        "outputId": "d3992d32-fe85-40e4-937f-5befe0f1e475",
        "colab": {
          "base_uri": "https://localhost:8080/"
        }
      },
      "outputs": [
        {
          "output_type": "execute_result",
          "data": {
            "text/plain": [
              "Review    0.0\n",
              "Class     0.0\n",
              "dtype: float64"
            ]
          },
          "metadata": {},
          "execution_count": 15
        }
      ],
      "source": [
        "# Cálculo de porcentaje de valores nulos por columna\n",
        "((df_model_2.isnull().sum()/df_model_2.shape[0])).sort_values(ascending=False)"
      ]
    },
    {
      "cell_type": "markdown",
      "metadata": {
        "id": "pYh-faak2RY2"
      },
      "source": [
        "### Unicidad"
      ]
    },
    {
      "cell_type": "code",
      "execution_count": null,
      "metadata": {
        "id": "2TCVK-oh2RY2",
        "outputId": "0f209a2f-5283-4008-a52d-383c72ed2e61",
        "colab": {
          "base_uri": "https://localhost:8080/"
        }
      },
      "outputs": [
        {
          "output_type": "execute_result",
          "data": {
            "text/plain": [
              "109"
            ]
          },
          "metadata": {},
          "execution_count": 16
        }
      ],
      "source": [
        "df_model_1.duplicated(keep = False).sum()"
      ]
    },
    {
      "cell_type": "code",
      "execution_count": null,
      "metadata": {
        "id": "-AWS-rvw2RY3",
        "outputId": "44bc33dc-532b-4ad5-99ea-3227ee3323e7",
        "colab": {
          "base_uri": "https://localhost:8080/"
        }
      },
      "outputs": [
        {
          "output_type": "execute_result",
          "data": {
            "text/plain": [
              "102"
            ]
          },
          "metadata": {},
          "execution_count": 17
        }
      ],
      "source": [
        "df_model_2.duplicated(keep = False).sum()"
      ]
    },
    {
      "cell_type": "code",
      "execution_count": null,
      "metadata": {
        "id": "GEWUSYoY2RY3"
      },
      "outputs": [],
      "source": [
        "df_model_1.drop_duplicates(keep = 'first', inplace = True)\n",
        "df_model_2.drop_duplicates(keep = 'first', inplace = True)"
      ]
    },
    {
      "cell_type": "code",
      "execution_count": null,
      "metadata": {
        "id": "nJlorh2C2RY3",
        "outputId": "27544fe6-4488-41bd-e73b-5f65a9dd9467",
        "colab": {
          "base_uri": "https://localhost:8080/"
        }
      },
      "outputs": [
        {
          "output_type": "execute_result",
          "data": {
            "text/plain": [
              "0"
            ]
          },
          "metadata": {},
          "execution_count": 19
        }
      ],
      "source": [
        "df_model_1.duplicated(keep = False).sum()"
      ]
    },
    {
      "cell_type": "code",
      "execution_count": null,
      "metadata": {
        "id": "y-uVl6sb2RY3",
        "outputId": "604a8915-5b3a-41b7-cf00-bb04b0d14be9",
        "colab": {
          "base_uri": "https://localhost:8080/"
        }
      },
      "outputs": [
        {
          "output_type": "execute_result",
          "data": {
            "text/plain": [
              "0"
            ]
          },
          "metadata": {},
          "execution_count": 20
        }
      ],
      "source": [
        "df_model_2.duplicated(keep = False).sum()"
      ]
    },
    {
      "cell_type": "markdown",
      "metadata": {
        "id": "T7BhydZH2RY3"
      },
      "source": [
        "### Consistencia"
      ]
    },
    {
      "cell_type": "code",
      "execution_count": null,
      "metadata": {
        "id": "zOi1dSkC2RY4",
        "outputId": "30321884-deeb-4af8-b452-a290ea639a18",
        "colab": {
          "base_uri": "https://localhost:8080/"
        }
      },
      "outputs": [
        {
          "output_type": "execute_result",
          "data": {
            "text/plain": [
              "Review\n",
              "Nos alojamos en una casa alquilada en la ciudad amurallada. Parecía tan segura como cualquier otra gran ciudad con un montón de buenos restaurantes, tiendas y vida nocturna. Gran lugar para un grupo con intereses variados, no estoy seguro de que le traiga a los niños aquí sólo porque no hay mucho que hacer para ellos. Asegúrate de aventurarse fuera de la ciudad, pero algunos también es un gran lugar para alojarse                                                                                                                                                                                                                                                                                                                                                                                    1\n",
              "considerando las eventualidades en que nos tocó la estadía (huracán Irma) , el Personal y todos en el hotel muy profesionales , siempre amables y dedicados. excelencia en la atención en todo momento , los desayunos y comidas en general abundantes y variados                                                                                                                                                                                                                                                                                                                                                                                                                                                                                                                                                   1\n",
              "Safi, Safi, Safi, me gusto la ubicacion de el Hotel, la comida, deliciosa. Los empleados siempre listos para ayudar, la resepcion fueron muy atentos con nosotros. Aunque no use la picina, esta hermosa y limpia; la vez y te invita a meterte. com mucho gusto volvere a este hotel, de hoy en adelante es el lugar en Monterrey que sera mi casa cada vez que visite a mi familia. Gracias a los empleados, de nuestra parte.  Gonzalo Herrejon                                                                                                                                                                                                                                                                                                                                                                  1\n",
              "Estuvimos en el Hotel Inglaterra el 6 al 9 de Noviembre del 2013. Decir que su ubicación es excelente es poco. Nos correspondió la habitación 318, la cual era excelente, la recomiendo. En frente teníamos el Teatro con esas imágenes impactantes. El desayuno nos pareció muy bueno, lógicamente hay que acostumbrarse a la comida cubana que nada tiene que ver con la argentina. La camarera de nuestra habitación de primera. Siempre la presentó con la calidez que ellos nos demuestran. Los detalle el Hotel son impresionantes, realmente es un Museo, por sus techos y paredes. Es posible que hallamos tenido suerte en la habitación asignada. Pero yo, que iba con mis reservas, me sentí totalmente a gusto. La terraza es maravillosa, hay paz y tranquilidad. Debo hacer mención del Señor que…    1\n",
              "Demasiadas cosas malas como para escribirlas en 200 caracteres, de las peores experiencias como hotel en los que he estado. No lo recomendaría. Sin luz cortes de agua, sábanas y baño sucio, abren la puerta desde muy temprano, sumamente molesto con todo el servicio.                                                                                                                                                                                                                                                                                                                                                                                                                                                                                                                                           1\n",
              "                                                                                                                                                                                                                                                                                                                                                                                                                                                                                                                                                                                                                                                                                                                                                                                                                   ..\n",
              "Nada de lujos, lo justo para dormir darte un buen baño y ver algo de TV antes de dormir. Tiene un Gym para los que les gusta esto y un servicio de Room Service las 24 hs, tarde un poco y en mi caso llego algo frío, pero estaba rico y con hambre dos veces rico. Aceptable.                                                                                                                                                                                                                                                                                                                                                                                                                                                                                                                                     1\n",
              "Este lugar tiene tanta variedad de platillos que es difícil elegir. Si vas con familia o amigos es mejor pedir dos o tres platillos para compartir y probar mas cosas                                                                                                                                                                                                                                                                                                                                                                                                                                                                                                                                                                                                                                               1\n",
              "En un rincón del centro de la ciudad moderna, se conserva la Bogotá antigua en donde sus calles estrechas y empedradas te hablan de su historia. Pareciera ser que la ciudad se quedó dormida en ese lugar y los años no le han pasado más que para hacerla florecer entre los coloridos balcones y fachadas.                                                                                                                                                                                                                                                                                                                                                                                                                                                                                                       1\n",
              "La Rambla cubana como yo la llamaria, evoca un pedazo de historia al tansportarte por su paseo donde las casas estan detenidas en el tiempo, un coco taxi nos llevo mas despacio de lo que circulan los coches por ahi para poder apreciar toda la belleza del mar golpeando sus costas.                                                                                                                                                                                                                                                                                                                                                                                                                                                                                                                            1\n",
              "Festejando Dia del Amor y Amistad\\n\\nTe remonta a un restaurante o cafetería de Paris. La ambientación y los detalles hacen de este restaurante un lugar cálido para pasar un rato con amigas o una cena romántica.  Las crepas son deliciosas prueba la de manzana...Más                                                                                                                                                                                                                                                                                                                                                                                                                                                                                                                                           1\n",
              "Name: count, Length: 7804, dtype: int64"
            ]
          },
          "metadata": {},
          "execution_count": 21
        }
      ],
      "source": [
        "#Se revisa consistencia de las columnas categoricas\n",
        "df_model_1['Review'].value_counts()"
      ]
    },
    {
      "cell_type": "code",
      "execution_count": null,
      "metadata": {
        "id": "hMwLt_r32RY4",
        "outputId": "1b4f0f33-903e-4099-8136-9ec1ae32352b",
        "colab": {
          "base_uri": "https://localhost:8080/"
        }
      },
      "outputs": [
        {
          "output_type": "execute_result",
          "data": {
            "text/plain": [
              "Review\n",
              "Muy buena atención y aclaración de dudas por parte de la señorita Verónica castillo, atenta y amable en cuestión laborable.  Ideal para descansar muy buenas habitaciónes, limpieza, ordenadas.  Buena comida de parte del restaurante,variedad en comidas                                                                                                                                                                                                                                                                                                                                                                                                                                                          1\n",
              "El sitio es realmente precioso y estimulante. Conseguir un guía y paseo a través del sitio web. llegar allí super pronto porque hace mucho calor y estaba llena de gente. Hay restaurantes en la ciudad y un cenote cerca que escuché vale la pena una visita.                                                                                                                                                                                                                                                                                                                                                                                                                                                      1\n",
              "Simplemente hermoso que digo hermoso majestuoso, la piramide de Kukulkan te dejara sin habla y el cenote sagrado es impresionante, quede totalmente fascinada y maravillada, no pueden dejar de ir a conocer la cultura Maya, eso si no olviden gorra, sombrilla, bloqueador, gafas de sol, ropa y calzado comodo y mucha agua por que el calor y el sol estan tremendos, y recomiendo un guía ya que hay mucho que aprender por cada arqueología.                                                                                                                                                                                                                                                                  1\n",
              "Visitamos en 2014 Diciembre. El conserje y el personal de recepción es muy servicial y eso es importany. Las instalaciones están bien y el desayuno tiene suficiente variedad. Teníamos una habitación con vistas al océano y, a pesar de que estaba anticuado disfrutamos completamente :) ... las vistas eran fantásticas y balcón era grande y rodea ... Ubicado en la parte residencial de La Habana por lo que necesitas un taxi para llegar a la ciudad o volver pero, una vez más, está lo suficientemente cerca para divertirse rápidamente y lo suficientemente lejos para que pueda descansar adecuadamente cuando es necesario. Recomendado para el personal atención, como se mencionó anteriormente    1\n",
              "Este es realmente un destino debe ir cuando cerca. Es simplemente fascinante de ver y oír sobre y aprender, etc. Y no te preocupes por los numerosos vendedores - realmente no molestarte mucho y algunas de ellas tienen quizás tus recuerdos futuros! No encontramos nada agobiante en absoluto.                                                                                                                                                                                                                                                                                                                                                                                                                  1\n",
              "                                                                                                                                                                                                                                                                                                                                                                                                                                                                                                                                                                                                                                                                                                                   ..\n",
              "Una exposición de la comida Regiomontana modernizada, una propuesta que atrae al paladar Regiomontano, ideal para negocios, cenas entre amigos, la coctelería fue minusciosamente elaborada y vale la pena darle la oportunidad.\\nLa comida es lo que caracteriza este lugar y te llena de satisfacción,...Más                                                                                                                                                                                                                                                                                                                                                                                                      1\n",
              "Una desilusión cuando anuncian y no respetan su horario de atención. Llegue con mi familia a la hora anunciada de apertura en internet y no nos dejaron entrar ni siquiera a sentarnos 20 minutos.\\nSu relativo éxito definitivamente los hace insensibles y un poco déspotas.\\nEn lo personal ademas de una buena comida busco siempre una experiencia de servicio especialmente cuando voy con mi familia. Hay muchas alternativas de buenos restaurantes en Vallarta ( comida y servicio), en lo personal voy a continuar visitándolas.\\n\\n                                                                                                                                                                      1\n",
              "Excelente servicio, me gustó la atención de los empleados, buenas bebidas y comidas e instalaciones como gimnasio y piscina jacuzzi, me gusta la exclusividad que hay en la playa, fui asesorado por Camila Herrera super atendido                                                                                                                                                                                                                                                                                                                                                                                                                                                                                  1\n",
              "Es gratis los domingos. Gran colección de oro pre hispana trabajar en América del Sur. Las cámaras están permitidos sin flash. También hay una cafetería, un restaurante y una tienda de recuerdos.                                                                                                                                                                                                                                                                                                                                                                                                                                                                                                                 1\n",
              "Llegamos por casualidad a Los Mercaderes, un grupo grande de varias familias, la comida a todos nos parecio excelente, el ambiente de lo mejor con musica cubana en vivo y muy buen servicio, a pesar de que eramos muchos. La decoracion muy bonita tambien                                                                                                                                                                                                                                                                                                                                                                                                                                                        1\n",
              "Name: count, Length: 7802, dtype: int64"
            ]
          },
          "metadata": {},
          "execution_count": 22
        }
      ],
      "source": [
        "df_model_2['Review'].value_counts()"
      ]
    },
    {
      "cell_type": "markdown",
      "metadata": {
        "id": "ltx5bOT12RY4"
      },
      "source": [
        "### Validez"
      ]
    },
    {
      "cell_type": "code",
      "execution_count": null,
      "metadata": {
        "id": "e8EF6xgy2RY4",
        "outputId": "a1c5eb26-a428-4fff-d985-db4cc2e41bac",
        "colab": {
          "base_uri": "https://localhost:8080/"
        }
      },
      "outputs": [
        {
          "output_type": "execute_result",
          "data": {
            "text/plain": [
              "array(['Nos alojamos en una casa alquilada en la ciudad amurallada. Parecía tan segura como cualquier otra gran ciudad con un montón de buenos restaurantes, tiendas y vida nocturna. Gran lugar para un grupo con intereses variados, no estoy seguro de que le traiga a los niños aquí sólo porque no hay mucho que hacer para ellos. Asegúrate de aventurarse fuera de la ciudad, pero algunos también es un gran lugar para alojarse',\n",
              "       'La comida está bien, pero nada especial. Yo tenía mejor comida Mexcan en los Estados Unidos. Las margaritas eran geniales. El Mahi Mahi pescado recocido y seco. La carne fajitas aceptable y el coco camarones sabroso. El tortilla chips aperitivo fue decepcionante.',\n",
              "       'En mi opinión, no es una como muchos usuarios reclaman. Es un gran paladar que parece ser una parada con muchos grupos de excursión. El menú es más interesante que los otros restaurantes comimos en. La parte más interesante de la experiencia es que el...edificio está en una sección de La Habana Centro. Las plantas inferiores están muy deteriorados, y tienen apartamentos donde viven muchos trabajadores de restaurante. Los pisos superiores, donde el restaurante es, han sido restauradas a gloria pasada. Las reservas son imprescindibles. Plan de 40 a 50 CUC por persona para una comida con cócteles y vinos.Más',\n",
              "       ...,\n",
              "       'Si vas a Mérida no puedes perderte de este lugar y que tiene una nueva sucursal más amplia y con la misma calidad, excelente servicio y comida deliciosa y bien servida.',\n",
              "       'Este imperdible sitio, que lleva el nombre del conquistador, es una joya urbana.Su amplitud para  el tráfico local motorizado evita congestionamietos,  a ambos lados una amplia zona  para corredores o simples caminadores  llena de pequeños cafés, restaurantes y bares para todos los gustos. Me impresionó la limpieza, la tranquilidad que en nuestros días es un privilegio y AUSENCIA DE GRAFITI.  qUE HERMOSURA ES IMPERDIBLE.',\n",
              "       'Festejando Dia del Amor y Amistad\\n\\nTe remonta a un restaurante o cafetería de Paris. La ambientación y los detalles hacen de este restaurante un lugar cálido para pasar un rato con amigas o una cena romántica.  Las crepas son deliciosas prueba la de manzana...Más'],\n",
              "      dtype=object)"
            ]
          },
          "metadata": {},
          "execution_count": 23
        }
      ],
      "source": [
        "df_model_1['Review'].unique()"
      ]
    },
    {
      "cell_type": "code",
      "execution_count": null,
      "metadata": {
        "id": "164YKrdH2RY4",
        "outputId": "befd35e7-a16b-4c27-ba6c-5512a1cafcf9",
        "colab": {
          "base_uri": "https://localhost:8080/"
        }
      },
      "outputs": [
        {
          "output_type": "execute_result",
          "data": {
            "text/plain": [
              "array(['Muy buena atención y aclaración de dudas por parte de la señorita Verónica castillo, atenta y amable en cuestión laborable.  Ideal para descansar muy buenas habitaciónes, limpieza, ordenadas.  Buena comida de parte del restaurante,variedad en comidas  ',\n",
              "       'Buen hotel si están obligados a estar cerca del centro de convenciones, pero el restaurante necesita mejorar! Frío y café flojo - y - un montón de pan de personas que sirve unos uderstanding de bu lo que significa un servicio. En este barrio con tan pocas opciones - debería ser un hotel especial.',\n",
              "       'Es un lugar muy lindo para fotografías, visiten Selina, música en vivo, cerveza artesanal y buena comida',\n",
              "       ...,\n",
              "       'La Plaza de la Revolución es un lugar emblemático que un poco que identifica a la Habana a partir de la segunda mitad del siglo XX, ya que es alli donde se han producido la mayoría los principales discursos de los lideres de la Revolución Cubana. Ademas esta rodeada de varios edificios majestuosos donde radican algunos de los Organismos de la Administración Central del Estado, asi como la sede del Consejo de Estado y de Ministros y el Comité Central del Partido Comunista de Cuba. Tambien ha hecho historia por ser el lugar donde los 3 Papas que han visitado a Cuba han realizado sus misas, y por los Megaconciertos que allí se han realizado tanto por artistas cubanos como extranjeros como es el caso del Concierto por la Paz que agrupó a mas de un millon de personas alli',\n",
              "       'Es la segunda ocasión que me quedo en los cuartos del area de Jardín, todo muy cómodo menos el internet. El internet no funciona en el area de alberca y cuartos del jardín. Lo reporte 3 veces y nunca lo arreglaron, tenia mucha necesidad de terminar cosas del trabajo y me tuve que ir a un Starbucks porque mi hotel 5 estrellas no tenia. Pedi cambio de cuarto al area de torres pero me dijeron que no tenían ni un cuarto mas y eso que me ofrecí a pagar la diferencia. La primera vez que me quede en este hotel el internet no funciono, pensé que era situación de un solo día y decidí darle otra oportunidad. No lo vuelvo hacer, he aprendido mi lección. ',\n",
              "       'Llegamos por casualidad a Los Mercaderes, un grupo grande de varias familias, la comida a todos nos parecio excelente, el ambiente de lo mejor con musica cubana en vivo y muy buen servicio, a pesar de que eramos muchos. La decoracion muy bonita tambien'],\n",
              "      dtype=object)"
            ]
          },
          "metadata": {},
          "execution_count": 24
        }
      ],
      "source": [
        "df_model_2['Review'].unique()"
      ]
    },
    {
      "cell_type": "markdown",
      "metadata": {
        "id": "RSIElACU2RY5"
      },
      "source": [
        "# Modelamiento"
      ]
    },
    {
      "cell_type": "markdown",
      "metadata": {
        "id": "apGSAPYa2RY5"
      },
      "source": [
        "## Modelo de Regresión logística - Santiago Ramírez"
      ]
    },
    {
      "cell_type": "markdown",
      "metadata": {
        "id": "N05Kw3JL2RY5"
      },
      "source": [
        "### Preparamiento de los datos"
      ]
    },
    {
      "cell_type": "code",
      "execution_count": null,
      "metadata": {
        "id": "5FOFIZx82RY5",
        "outputId": "3fd7726e-23ba-445b-ed3d-d51d26d9cf4a",
        "colab": {
          "base_uri": "https://localhost:8080/"
        }
      },
      "outputs": [
        {
          "output_type": "stream",
          "name": "stderr",
          "text": [
            "[nltk_data] Downloading package stopwords to /root/nltk_data...\n",
            "[nltk_data]   Unzipping corpora/stopwords.zip.\n"
          ]
        }
      ],
      "source": [
        "# Descargar las stopwords en español\n",
        "nltk.download('stopwords')\n",
        "\n",
        "# Crear el stemmer en español\n",
        "stemmer = SnowballStemmer('spanish')\n",
        "\n",
        "# Crear la lista de stopwords en español\n",
        "stopwords_es = set(stopwords.words('spanish'))\n",
        "\n",
        "def preprocess_review(review):\n",
        "    # Convertir a minúsculas\n",
        "    review = review.lower()\n",
        "\n",
        "    # Eliminar caracteres especiales\n",
        "    review = re.sub(r'\\W', ' ', review)\n",
        "\n",
        "    # Eliminar palabras vacías y realizar stemming\n",
        "    review = [stemmer.stem(word) for word in review.split() if word not in stopwords_es]\n",
        "\n",
        "    return ' '.join(review)\n",
        "\n",
        "# Preprocesar todas las reseñas\n",
        "preprocessed_reviews_1 = [preprocess_review(review) for review in df_model_1['Review']]\n",
        "preprocessed_reviews_2 = [preprocess_review(review) for review in df_model_2['Review']]"
      ]
    },
    {
      "cell_type": "markdown",
      "metadata": {
        "id": "oT792dqK2RY6"
      },
      "source": [
        "### Construcción del modelo"
      ]
    },
    {
      "cell_type": "code",
      "execution_count": null,
      "metadata": {
        "id": "496-PQd32RY6"
      },
      "outputs": [],
      "source": [
        "# Crear el vectorizador TF-IDF\n",
        "vectorizer = TfidfVectorizer()\n",
        "\n",
        "# Aplicar el vectorizador a las reseñas preprocesadas\n",
        "tfidf_reviews_1 = vectorizer.fit_transform(preprocessed_reviews_1)\n",
        "tfidf_reviews_2 = vectorizer.transform(preprocessed_reviews_2)"
      ]
    },
    {
      "cell_type": "code",
      "execution_count": null,
      "metadata": {
        "id": "zhBoVdIj2RY6"
      },
      "outputs": [],
      "source": [
        "# Los puntajes de las reseñas para cada grupo de datos\n",
        "labels_1 = df_model_1['Class'].tolist()\n",
        "labels_2 = df_model_2['Class'].tolist()\n",
        "\n",
        "# Concatenar las matrices TF-IDF y las etiquetas\n",
        "tfidf_reviews = vstack([tfidf_reviews_1, tfidf_reviews_2])\n",
        "labels = labels_1 + labels_2\n",
        "\n",
        "# Dividir los datos en conjuntos de entrenamiento y prueba\n",
        "X_train, X_test, y_train, y_test = train_test_split(tfidf_reviews, labels, test_size=0.2, random_state=0)"
      ]
    },
    {
      "cell_type": "code",
      "execution_count": null,
      "metadata": {
        "id": "WFBJwvxj2RY6",
        "outputId": "7b3bab20-4bcd-4c5a-abf6-32c75c33f300",
        "colab": {
          "base_uri": "https://localhost:8080/",
          "height": 74
        }
      },
      "outputs": [
        {
          "output_type": "execute_result",
          "data": {
            "text/plain": [
              "LogisticRegression(max_iter=1000)"
            ],
            "text/html": [
              "<style>#sk-container-id-1 {color: black;background-color: white;}#sk-container-id-1 pre{padding: 0;}#sk-container-id-1 div.sk-toggleable {background-color: white;}#sk-container-id-1 label.sk-toggleable__label {cursor: pointer;display: block;width: 100%;margin-bottom: 0;padding: 0.3em;box-sizing: border-box;text-align: center;}#sk-container-id-1 label.sk-toggleable__label-arrow:before {content: \"▸\";float: left;margin-right: 0.25em;color: #696969;}#sk-container-id-1 label.sk-toggleable__label-arrow:hover:before {color: black;}#sk-container-id-1 div.sk-estimator:hover label.sk-toggleable__label-arrow:before {color: black;}#sk-container-id-1 div.sk-toggleable__content {max-height: 0;max-width: 0;overflow: hidden;text-align: left;background-color: #f0f8ff;}#sk-container-id-1 div.sk-toggleable__content pre {margin: 0.2em;color: black;border-radius: 0.25em;background-color: #f0f8ff;}#sk-container-id-1 input.sk-toggleable__control:checked~div.sk-toggleable__content {max-height: 200px;max-width: 100%;overflow: auto;}#sk-container-id-1 input.sk-toggleable__control:checked~label.sk-toggleable__label-arrow:before {content: \"▾\";}#sk-container-id-1 div.sk-estimator input.sk-toggleable__control:checked~label.sk-toggleable__label {background-color: #d4ebff;}#sk-container-id-1 div.sk-label input.sk-toggleable__control:checked~label.sk-toggleable__label {background-color: #d4ebff;}#sk-container-id-1 input.sk-hidden--visually {border: 0;clip: rect(1px 1px 1px 1px);clip: rect(1px, 1px, 1px, 1px);height: 1px;margin: -1px;overflow: hidden;padding: 0;position: absolute;width: 1px;}#sk-container-id-1 div.sk-estimator {font-family: monospace;background-color: #f0f8ff;border: 1px dotted black;border-radius: 0.25em;box-sizing: border-box;margin-bottom: 0.5em;}#sk-container-id-1 div.sk-estimator:hover {background-color: #d4ebff;}#sk-container-id-1 div.sk-parallel-item::after {content: \"\";width: 100%;border-bottom: 1px solid gray;flex-grow: 1;}#sk-container-id-1 div.sk-label:hover label.sk-toggleable__label {background-color: #d4ebff;}#sk-container-id-1 div.sk-serial::before {content: \"\";position: absolute;border-left: 1px solid gray;box-sizing: border-box;top: 0;bottom: 0;left: 50%;z-index: 0;}#sk-container-id-1 div.sk-serial {display: flex;flex-direction: column;align-items: center;background-color: white;padding-right: 0.2em;padding-left: 0.2em;position: relative;}#sk-container-id-1 div.sk-item {position: relative;z-index: 1;}#sk-container-id-1 div.sk-parallel {display: flex;align-items: stretch;justify-content: center;background-color: white;position: relative;}#sk-container-id-1 div.sk-item::before, #sk-container-id-1 div.sk-parallel-item::before {content: \"\";position: absolute;border-left: 1px solid gray;box-sizing: border-box;top: 0;bottom: 0;left: 50%;z-index: -1;}#sk-container-id-1 div.sk-parallel-item {display: flex;flex-direction: column;z-index: 1;position: relative;background-color: white;}#sk-container-id-1 div.sk-parallel-item:first-child::after {align-self: flex-end;width: 50%;}#sk-container-id-1 div.sk-parallel-item:last-child::after {align-self: flex-start;width: 50%;}#sk-container-id-1 div.sk-parallel-item:only-child::after {width: 0;}#sk-container-id-1 div.sk-dashed-wrapped {border: 1px dashed gray;margin: 0 0.4em 0.5em 0.4em;box-sizing: border-box;padding-bottom: 0.4em;background-color: white;}#sk-container-id-1 div.sk-label label {font-family: monospace;font-weight: bold;display: inline-block;line-height: 1.2em;}#sk-container-id-1 div.sk-label-container {text-align: center;}#sk-container-id-1 div.sk-container {/* jupyter's `normalize.less` sets `[hidden] { display: none; }` but bootstrap.min.css set `[hidden] { display: none !important; }` so we also need the `!important` here to be able to override the default hidden behavior on the sphinx rendered scikit-learn.org. See: https://github.com/scikit-learn/scikit-learn/issues/21755 */display: inline-block !important;position: relative;}#sk-container-id-1 div.sk-text-repr-fallback {display: none;}</style><div id=\"sk-container-id-1\" class=\"sk-top-container\"><div class=\"sk-text-repr-fallback\"><pre>LogisticRegression(max_iter=1000)</pre><b>In a Jupyter environment, please rerun this cell to show the HTML representation or trust the notebook. <br />On GitHub, the HTML representation is unable to render, please try loading this page with nbviewer.org.</b></div><div class=\"sk-container\" hidden><div class=\"sk-item\"><div class=\"sk-estimator sk-toggleable\"><input class=\"sk-toggleable__control sk-hidden--visually\" id=\"sk-estimator-id-1\" type=\"checkbox\" checked><label for=\"sk-estimator-id-1\" class=\"sk-toggleable__label sk-toggleable__label-arrow\">LogisticRegression</label><div class=\"sk-toggleable__content\"><pre>LogisticRegression(max_iter=1000)</pre></div></div></div></div></div>"
            ]
          },
          "metadata": {},
          "execution_count": 28
        }
      ],
      "source": [
        "# Crear el modelo de regresión logística\n",
        "model = LogisticRegression(max_iter=1000)\n",
        "\n",
        "# Entrenar el modelo con los datos de entrenamiento\n",
        "model.fit(X_train, y_train)"
      ]
    },
    {
      "cell_type": "markdown",
      "metadata": {
        "id": "CNqwGWgt2RY7"
      },
      "source": [
        "### Validación del modelo"
      ]
    },
    {
      "cell_type": "code",
      "execution_count": null,
      "metadata": {
        "id": "ed7s9REk2RY_",
        "outputId": "5cb1ba3b-4e7b-4645-89a4-a5645f01c220",
        "colab": {
          "base_uri": "https://localhost:8080/"
        }
      },
      "outputs": [
        {
          "output_type": "stream",
          "name": "stdout",
          "text": [
            "Accuracy: 0.4951953875720692\n",
            "Recall: 0.45927696913933397\n",
            "              precision    recall  f1-score   support\n",
            "\n",
            "           1       0.58      0.38      0.46       322\n",
            "           2       0.40      0.39      0.40       452\n",
            "           3       0.41      0.38      0.40       617\n",
            "           4       0.44      0.43      0.43       788\n",
            "           5       0.60      0.71      0.65       943\n",
            "\n",
            "    accuracy                           0.50      3122\n",
            "   macro avg       0.49      0.46      0.47      3122\n",
            "weighted avg       0.49      0.50      0.49      3122\n",
            "\n"
          ]
        }
      ],
      "source": [
        "# Predecir las etiquetas para el conjunto de prueba\n",
        "y_pred = model.predict(X_test)\n",
        "\n",
        "# Calcular la precisión del modelo\n",
        "accuracy = accuracy_score(y_test, y_pred)\n",
        "\n",
        "# Calcular la sensibilidad del modelo\n",
        "recall = recall_score(y_test, y_pred, average='macro')\n",
        "\n",
        "print(f'Accuracy: {accuracy}')\n",
        "print(f'Recall: {recall}')\n",
        "\n",
        "# Un informe detallado de clasificación\n",
        "print(classification_report(y_test, y_pred))"
      ]
    },
    {
      "cell_type": "markdown",
      "metadata": {
        "id": "a4FeLDNS2RY_"
      },
      "source": [
        "### Entendimiento del modelo"
      ]
    },
    {
      "cell_type": "code",
      "execution_count": null,
      "metadata": {
        "id": "20B5qEeT2RZA",
        "outputId": "a9a97ab0-846d-4162-ede5-233c4853b377",
        "colab": {
          "base_uri": "https://localhost:8080/"
        }
      },
      "outputs": [
        {
          "output_type": "stream",
          "name": "stdout",
          "text": [
            "Class 1: ['pag', 'ningun', 'terribl', 'cucarach', 'rob', 'horribl', 'suci', 'mal', 'peor', 'pesim']\n",
            "Class 2: ['car', 'sabor', 'des', 'desgraci', 'siqu', 'suci', 'pobr', 'parec', 'decepcion', 'mal']\n",
            "Class 3: ['buen', 'bien', 'men', 'bastant', 'falt', 'pareci', 'demasi', 'regul', 'embarg', 'normal']\n",
            "Class 4: ['histori', 'limpi', 'agrad', 'unic', 'disfrut', 'estupend', 'bien', 'excelent', 'comod', 'buen']\n",
            "Class 5: ['gran', 'sup', 'hermos', 'perfect', 'maravill', 'recomend', 'encant', 'increibl', 'delici', 'excelent']\n"
          ]
        }
      ],
      "source": [
        "# Obtener los nombres de las características (palabras)\n",
        "feature_names = vectorizer.get_feature_names_out()\n",
        "\n",
        "# Obtener los coeficientes del modelo\n",
        "coefficients = model.coef_\n",
        "\n",
        "# Para cada clase, encontrar las 10 palabras con los coeficientes más grandes\n",
        "for i, class_label in enumerate(model.classes_):\n",
        "    top10_indices = coefficients[i].argsort()[-10:]\n",
        "    top10_words = [feature_names[index] for index in top10_indices]\n",
        "    print(f'Class {class_label}: {top10_words}')"
      ]
    },
    {
      "cell_type": "markdown",
      "source": [
        "## Modelo de Random Forest- Mario Alejandro Ruiz\n"
      ],
      "metadata": {
        "id": "A3HUssf9c-0F"
      }
    },
    {
      "cell_type": "markdown",
      "source": [
        "## Preparamiento de los datos\n",
        "El proceso de stopwords, stemming y limpieza de datos es identico al del modelo anterior por lo que se usaran los datos previamente procesados.\n"
      ],
      "metadata": {
        "id": "yk0wO_NjdCyB"
      }
    },
    {
      "cell_type": "markdown",
      "source": [
        "## Construcción del modelo"
      ],
      "metadata": {
        "id": "UcXFZcmadrzl"
      }
    },
    {
      "cell_type": "code",
      "source": [
        "# Importar las librerias necesarias\n",
        "from sklearn.ensemble import RandomForestClassifier\n",
        "import numpy as np\n",
        "# Crearm el Random Forest\n",
        "model = RandomForestClassifier(n_estimators=100, random_state=0)\n",
        "\n",
        "# Entrenar el modelo\n",
        "model.fit(X_train, y_train)"
      ],
      "metadata": {
        "id": "w-ZBwrKZd2VS",
        "colab": {
          "base_uri": "https://localhost:8080/",
          "height": 74
        },
        "outputId": "7570c2b4-cc83-43dc-f01c-b58cfee0c54f"
      },
      "execution_count": null,
      "outputs": [
        {
          "output_type": "execute_result",
          "data": {
            "text/plain": [
              "RandomForestClassifier(random_state=0)"
            ],
            "text/html": [
              "<style>#sk-container-id-2 {color: black;background-color: white;}#sk-container-id-2 pre{padding: 0;}#sk-container-id-2 div.sk-toggleable {background-color: white;}#sk-container-id-2 label.sk-toggleable__label {cursor: pointer;display: block;width: 100%;margin-bottom: 0;padding: 0.3em;box-sizing: border-box;text-align: center;}#sk-container-id-2 label.sk-toggleable__label-arrow:before {content: \"▸\";float: left;margin-right: 0.25em;color: #696969;}#sk-container-id-2 label.sk-toggleable__label-arrow:hover:before {color: black;}#sk-container-id-2 div.sk-estimator:hover label.sk-toggleable__label-arrow:before {color: black;}#sk-container-id-2 div.sk-toggleable__content {max-height: 0;max-width: 0;overflow: hidden;text-align: left;background-color: #f0f8ff;}#sk-container-id-2 div.sk-toggleable__content pre {margin: 0.2em;color: black;border-radius: 0.25em;background-color: #f0f8ff;}#sk-container-id-2 input.sk-toggleable__control:checked~div.sk-toggleable__content {max-height: 200px;max-width: 100%;overflow: auto;}#sk-container-id-2 input.sk-toggleable__control:checked~label.sk-toggleable__label-arrow:before {content: \"▾\";}#sk-container-id-2 div.sk-estimator input.sk-toggleable__control:checked~label.sk-toggleable__label {background-color: #d4ebff;}#sk-container-id-2 div.sk-label input.sk-toggleable__control:checked~label.sk-toggleable__label {background-color: #d4ebff;}#sk-container-id-2 input.sk-hidden--visually {border: 0;clip: rect(1px 1px 1px 1px);clip: rect(1px, 1px, 1px, 1px);height: 1px;margin: -1px;overflow: hidden;padding: 0;position: absolute;width: 1px;}#sk-container-id-2 div.sk-estimator {font-family: monospace;background-color: #f0f8ff;border: 1px dotted black;border-radius: 0.25em;box-sizing: border-box;margin-bottom: 0.5em;}#sk-container-id-2 div.sk-estimator:hover {background-color: #d4ebff;}#sk-container-id-2 div.sk-parallel-item::after {content: \"\";width: 100%;border-bottom: 1px solid gray;flex-grow: 1;}#sk-container-id-2 div.sk-label:hover label.sk-toggleable__label {background-color: #d4ebff;}#sk-container-id-2 div.sk-serial::before {content: \"\";position: absolute;border-left: 1px solid gray;box-sizing: border-box;top: 0;bottom: 0;left: 50%;z-index: 0;}#sk-container-id-2 div.sk-serial {display: flex;flex-direction: column;align-items: center;background-color: white;padding-right: 0.2em;padding-left: 0.2em;position: relative;}#sk-container-id-2 div.sk-item {position: relative;z-index: 1;}#sk-container-id-2 div.sk-parallel {display: flex;align-items: stretch;justify-content: center;background-color: white;position: relative;}#sk-container-id-2 div.sk-item::before, #sk-container-id-2 div.sk-parallel-item::before {content: \"\";position: absolute;border-left: 1px solid gray;box-sizing: border-box;top: 0;bottom: 0;left: 50%;z-index: -1;}#sk-container-id-2 div.sk-parallel-item {display: flex;flex-direction: column;z-index: 1;position: relative;background-color: white;}#sk-container-id-2 div.sk-parallel-item:first-child::after {align-self: flex-end;width: 50%;}#sk-container-id-2 div.sk-parallel-item:last-child::after {align-self: flex-start;width: 50%;}#sk-container-id-2 div.sk-parallel-item:only-child::after {width: 0;}#sk-container-id-2 div.sk-dashed-wrapped {border: 1px dashed gray;margin: 0 0.4em 0.5em 0.4em;box-sizing: border-box;padding-bottom: 0.4em;background-color: white;}#sk-container-id-2 div.sk-label label {font-family: monospace;font-weight: bold;display: inline-block;line-height: 1.2em;}#sk-container-id-2 div.sk-label-container {text-align: center;}#sk-container-id-2 div.sk-container {/* jupyter's `normalize.less` sets `[hidden] { display: none; }` but bootstrap.min.css set `[hidden] { display: none !important; }` so we also need the `!important` here to be able to override the default hidden behavior on the sphinx rendered scikit-learn.org. See: https://github.com/scikit-learn/scikit-learn/issues/21755 */display: inline-block !important;position: relative;}#sk-container-id-2 div.sk-text-repr-fallback {display: none;}</style><div id=\"sk-container-id-2\" class=\"sk-top-container\"><div class=\"sk-text-repr-fallback\"><pre>RandomForestClassifier(random_state=0)</pre><b>In a Jupyter environment, please rerun this cell to show the HTML representation or trust the notebook. <br />On GitHub, the HTML representation is unable to render, please try loading this page with nbviewer.org.</b></div><div class=\"sk-container\" hidden><div class=\"sk-item\"><div class=\"sk-estimator sk-toggleable\"><input class=\"sk-toggleable__control sk-hidden--visually\" id=\"sk-estimator-id-2\" type=\"checkbox\" checked><label for=\"sk-estimator-id-2\" class=\"sk-toggleable__label sk-toggleable__label-arrow\">RandomForestClassifier</label><div class=\"sk-toggleable__content\"><pre>RandomForestClassifier(random_state=0)</pre></div></div></div></div></div>"
            ]
          },
          "metadata": {},
          "execution_count": 31
        }
      ]
    },
    {
      "cell_type": "markdown",
      "source": [
        "## Validacion del modelo\n"
      ],
      "metadata": {
        "id": "0_-MwLx8dxkU"
      }
    },
    {
      "cell_type": "code",
      "source": [
        "# Predecir las etiquetas\n",
        "y_pred = model.predict(X_test)\n",
        "\n",
        "# Calcular el accuracy de modelo\n",
        "accuracy = accuracy_score(y_test, y_pred)\n",
        "\n",
        "# Calcular el recall del modelo\n",
        "recall = recall_score(y_test, y_pred, average=\"macro\")\n",
        "\n",
        "print(f\"Accuracy: {accuracy}\")\n",
        "print(f\"Recall: {recall}\")\n",
        "\n",
        "# Reporte\n",
        "print(classification_report(y_test, y_pred))"
      ],
      "metadata": {
        "id": "qgkIIvmLj-IH",
        "colab": {
          "base_uri": "https://localhost:8080/"
        },
        "outputId": "d4424bb5-b16b-4bd0-d0d5-48f9b2c703b9"
      },
      "execution_count": null,
      "outputs": [
        {
          "output_type": "stream",
          "name": "stdout",
          "text": [
            "Accuracy: 0.45803971812940425\n",
            "Recall: 0.40761531413408447\n",
            "              precision    recall  f1-score   support\n",
            "\n",
            "           1       0.55      0.25      0.35       322\n",
            "           2       0.40      0.37      0.39       452\n",
            "           3       0.39      0.29      0.33       617\n",
            "           4       0.40      0.36      0.38       788\n",
            "           5       0.52      0.76      0.62       943\n",
            "\n",
            "    accuracy                           0.46      3122\n",
            "   macro avg       0.45      0.41      0.41      3122\n",
            "weighted avg       0.45      0.46      0.44      3122\n",
            "\n"
          ]
        }
      ]
    },
    {
      "cell_type": "markdown",
      "source": [
        "## Entendimiento del modelo\n"
      ],
      "metadata": {
        "id": "vlgTGoPFd0Hu"
      }
    },
    {
      "cell_type": "code",
      "source": [
        "# Importances de los features\n",
        "importances = model.feature_importances_\n",
        "\n",
        "# Indices sorteados por importancia\n",
        "indices = np.argsort(importances)[::-1]\n",
        "\n",
        "print(\"Feature ranking:\")\n",
        "\n",
        "for f in range(10):\n",
        "    print(f\"{f + 1}. feature {feature_names[indices[f]]} ({importances[indices[f]]})\")"
      ],
      "metadata": {
        "id": "sfKpsKNzkA97",
        "colab": {
          "base_uri": "https://localhost:8080/"
        },
        "outputId": "283d5972-e2bb-45bd-be1d-bb2fbb77745f"
      },
      "execution_count": null,
      "outputs": [
        {
          "output_type": "stream",
          "name": "stdout",
          "text": [
            "Feature ranking:\n",
            "1. feature mal (0.010801210067890683)\n",
            "2. feature excelent (0.010552403298136243)\n",
            "3. feature buen (0.008426643092562643)\n",
            "4. feature com (0.005987460641987274)\n",
            "5. feature habit (0.00563642694640854)\n",
            "6. feature servici (0.00547302310953717)\n",
            "7. feature hotel (0.005406683890929452)\n",
            "8. feature lug (0.0053825597703205195)\n",
            "9. feature bien (0.0046811648599627284)\n",
            "10. feature si (0.004559028918364147)\n"
          ]
        }
      ]
    }
  ],
  "metadata": {
    "kernelspec": {
      "display_name": "Python 3",
      "language": "python",
      "name": "python3"
    },
    "language_info": {
      "codemirror_mode": {
        "name": "ipython",
        "version": 3
      },
      "file_extension": ".py",
      "mimetype": "text/x-python",
      "name": "python",
      "nbconvert_exporter": "python",
      "pygments_lexer": "ipython3",
      "version": "3.11.5"
    },
    "colab": {
      "provenance": []
    }
  },
  "nbformat": 4,
  "nbformat_minor": 0
}