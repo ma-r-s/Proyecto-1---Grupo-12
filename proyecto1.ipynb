{
  "cells": [
    {
      "cell_type": "markdown",
      "metadata": {
        "id": "0zZQFfOA2RYp"
      },
      "source": [
        "# Importación de librerías"
      ]
    },
    {
      "cell_type": "code",
      "execution_count": 1,
      "metadata": {
        "id": "zzPyrzxl2RYs"
      },
      "outputs": [],
      "source": [
        "import pandas as pd\n",
        "import re\n",
        "import nltk\n",
        "\n",
        "from sklearn.metrics import accuracy_score, recall_score, classification_report\n",
        "from sklearn.linear_model import LogisticRegression\n",
        "from nltk.corpus import stopwords\n",
        "from nltk.stem import SnowballStemmer\n",
        "from sklearn.feature_extraction.text import TfidfVectorizer\n",
        "from sklearn.model_selection import train_test_split\n",
        "from scipy.sparse import vstack"
      ]
    },
    {
      "cell_type": "markdown",
      "metadata": {
        "id": "CSQPCHx52RYu"
      },
      "source": [
        "# Carga de datos"
      ]
    },
    {
      "cell_type": "code",
      "execution_count": 2,
      "metadata": {
        "id": "8FhBVuV52RYv"
      },
      "outputs": [],
      "source": [
        "df_train1 = pd.read_csv(\".particion_prueba_estudiantes.csv\")"
      ]
    },
    {
      "cell_type": "code",
      "execution_count": 3,
      "metadata": {
        "id": "sQh1DHA32RYv"
      },
      "outputs": [],
      "source": [
        "df_train2 = pd.read_csv('./data/tipo2_entrenamiento_estudiantes.csv')"
      ]
    },
    {
      "cell_type": "markdown",
      "metadata": {
        "id": "tKaaqtTx2RYw"
      },
      "source": [
        "# Entendimiento de los datos"
      ]
    },
    {
      "cell_type": "markdown",
      "metadata": {
        "id": "NZ6nnVfA2RYw"
      },
      "source": [
        "## Perfilamiento de los datos"
      ]
    },
    {
      "cell_type": "code",
      "execution_count": 4,
      "metadata": {
        "id": "AX6pWj5l2RYx",
        "outputId": "8fe8c53e-6a24-4ff0-bf4d-b05169290a99"
      },
      "outputs": [
        {
          "data": {
            "text/plain": [
              "(7875, 2)"
            ]
          },
          "execution_count": 4,
          "metadata": {},
          "output_type": "execute_result"
        }
      ],
      "source": [
        "df_train1.shape"
      ]
    },
    {
      "cell_type": "code",
      "execution_count": 5,
      "metadata": {
        "id": "ydZCBElL2RYy",
        "outputId": "b6499587-8ea5-4fc0-dc09-8633aac1a132"
      },
      "outputs": [
        {
          "data": {
            "text/html": [
              "<div>\n",
              "<style scoped>\n",
              "    .dataframe tbody tr th:only-of-type {\n",
              "        vertical-align: middle;\n",
              "    }\n",
              "\n",
              "    .dataframe tbody tr th {\n",
              "        vertical-align: top;\n",
              "    }\n",
              "\n",
              "    .dataframe thead th {\n",
              "        text-align: right;\n",
              "    }\n",
              "</style>\n",
              "<table border=\"1\" class=\"dataframe\">\n",
              "  <thead>\n",
              "    <tr style=\"text-align: right;\">\n",
              "      <th></th>\n",
              "      <th>Review</th>\n",
              "      <th>Class</th>\n",
              "    </tr>\n",
              "  </thead>\n",
              "  <tbody>\n",
              "    <tr>\n",
              "      <th>0</th>\n",
              "      <td>Nos alojamos en una casa alquilada en la ciuda...</td>\n",
              "      <td>4</td>\n",
              "    </tr>\n",
              "    <tr>\n",
              "      <th>1</th>\n",
              "      <td>La comida está bien, pero nada especial. Yo te...</td>\n",
              "      <td>3</td>\n",
              "    </tr>\n",
              "    <tr>\n",
              "      <th>2</th>\n",
              "      <td>En mi opinión, no es una como muchos usuarios ...</td>\n",
              "      <td>3</td>\n",
              "    </tr>\n",
              "    <tr>\n",
              "      <th>3</th>\n",
              "      <td>esta curiosa forma que asemeja una silla de mo...</td>\n",
              "      <td>4</td>\n",
              "    </tr>\n",
              "    <tr>\n",
              "      <th>4</th>\n",
              "      <td>Lo mejor era la limonada. Me gusto la comida d...</td>\n",
              "      <td>2</td>\n",
              "    </tr>\n",
              "  </tbody>\n",
              "</table>\n",
              "</div>"
            ],
            "text/plain": [
              "                                              Review  Class\n",
              "0  Nos alojamos en una casa alquilada en la ciuda...      4\n",
              "1  La comida está bien, pero nada especial. Yo te...      3\n",
              "2  En mi opinión, no es una como muchos usuarios ...      3\n",
              "3  esta curiosa forma que asemeja una silla de mo...      4\n",
              "4  Lo mejor era la limonada. Me gusto la comida d...      2"
            ]
          },
          "execution_count": 5,
          "metadata": {},
          "output_type": "execute_result"
        }
      ],
      "source": [
        "df_train1.head()"
      ]
    },
    {
      "cell_type": "code",
      "execution_count": 6,
      "metadata": {
        "id": "Bg7R0GKH2RYy",
        "outputId": "02c3ba5d-1da7-4d47-d353-39550e100283"
      },
      "outputs": [
        {
          "data": {
            "text/plain": [
              "(7875, 2)"
            ]
          },
          "execution_count": 6,
          "metadata": {},
          "output_type": "execute_result"
        }
      ],
      "source": [
        "df_train2.shape"
      ]
    },
    {
      "cell_type": "code",
      "execution_count": 7,
      "metadata": {
        "id": "Sg2gU5qw2RYz",
        "outputId": "f8d04605-4430-418e-be40-d8d0108f8381"
      },
      "outputs": [
        {
          "data": {
            "text/html": [
              "<div>\n",
              "<style scoped>\n",
              "    .dataframe tbody tr th:only-of-type {\n",
              "        vertical-align: middle;\n",
              "    }\n",
              "\n",
              "    .dataframe tbody tr th {\n",
              "        vertical-align: top;\n",
              "    }\n",
              "\n",
              "    .dataframe thead th {\n",
              "        text-align: right;\n",
              "    }\n",
              "</style>\n",
              "<table border=\"1\" class=\"dataframe\">\n",
              "  <thead>\n",
              "    <tr style=\"text-align: right;\">\n",
              "      <th></th>\n",
              "      <th>Review</th>\n",
              "      <th>Class</th>\n",
              "    </tr>\n",
              "  </thead>\n",
              "  <tbody>\n",
              "    <tr>\n",
              "      <th>0</th>\n",
              "      <td>Muy buena atención y aclaración de dudas por p...</td>\n",
              "      <td>5</td>\n",
              "    </tr>\n",
              "    <tr>\n",
              "      <th>1</th>\n",
              "      <td>Buen hotel si están obligados a estar cerca de...</td>\n",
              "      <td>3</td>\n",
              "    </tr>\n",
              "    <tr>\n",
              "      <th>2</th>\n",
              "      <td>Es un lugar muy lindo para fotografías, visite...</td>\n",
              "      <td>5</td>\n",
              "    </tr>\n",
              "    <tr>\n",
              "      <th>3</th>\n",
              "      <td>Abusados con la factura de alimentos siempre s...</td>\n",
              "      <td>3</td>\n",
              "    </tr>\n",
              "    <tr>\n",
              "      <th>4</th>\n",
              "      <td>Tuvimos un par de personas en el grupo que rea...</td>\n",
              "      <td>3</td>\n",
              "    </tr>\n",
              "  </tbody>\n",
              "</table>\n",
              "</div>"
            ],
            "text/plain": [
              "                                              Review  Class\n",
              "0  Muy buena atención y aclaración de dudas por p...      5\n",
              "1  Buen hotel si están obligados a estar cerca de...      3\n",
              "2  Es un lugar muy lindo para fotografías, visite...      5\n",
              "3  Abusados con la factura de alimentos siempre s...      3\n",
              "4  Tuvimos un par de personas en el grupo que rea...      3"
            ]
          },
          "execution_count": 7,
          "metadata": {},
          "output_type": "execute_result"
        }
      ],
      "source": [
        "df_train2.head()"
      ]
    },
    {
      "cell_type": "code",
      "execution_count": 8,
      "metadata": {
        "id": "IqwFsIQK2RYz",
        "outputId": "ec313f4d-0376-4f20-b558-a4eba77e964b"
      },
      "outputs": [
        {
          "name": "stdout",
          "output_type": "stream",
          "text": [
            "<class 'pandas.core.frame.DataFrame'>\n",
            "RangeIndex: 7875 entries, 0 to 7874\n",
            "Data columns (total 2 columns):\n",
            " #   Column  Non-Null Count  Dtype \n",
            "---  ------  --------------  ----- \n",
            " 0   Review  7875 non-null   object\n",
            " 1   Class   7875 non-null   int64 \n",
            "dtypes: int64(1), object(1)\n",
            "memory usage: 123.2+ KB\n",
            "<class 'pandas.core.frame.DataFrame'>\n",
            "RangeIndex: 7875 entries, 0 to 7874\n",
            "Data columns (total 2 columns):\n",
            " #   Column  Non-Null Count  Dtype \n",
            "---  ------  --------------  ----- \n",
            " 0   Review  7875 non-null   object\n",
            " 1   Class   7875 non-null   int64 \n",
            "dtypes: int64(1), object(1)\n",
            "memory usage: 123.2+ KB\n"
          ]
        },
        {
          "data": {
            "text/plain": [
              "(None, None)"
            ]
          },
          "execution_count": 8,
          "metadata": {},
          "output_type": "execute_result"
        }
      ],
      "source": [
        "df_train1.info(), df_train2.info()"
      ]
    },
    {
      "cell_type": "code",
      "execution_count": 9,
      "metadata": {
        "id": "GqGHesGr2RY0",
        "outputId": "fba69fc0-2d58-4821-8308-436d1678b6aa"
      },
      "outputs": [
        {
          "data": {
            "text/plain": [
              "(             Class\n",
              " count  7875.000000\n",
              " mean      3.491683\n",
              " std       1.328275\n",
              " min       1.000000\n",
              " 25%       2.000000\n",
              " 50%       4.000000\n",
              " 75%       5.000000\n",
              " max       5.000000,\n",
              "              Class\n",
              " count  7875.000000\n",
              " mean      3.502603\n",
              " std       1.320435\n",
              " min       1.000000\n",
              " 25%       3.000000\n",
              " 50%       4.000000\n",
              " 75%       5.000000\n",
              " max       5.000000)"
            ]
          },
          "execution_count": 9,
          "metadata": {},
          "output_type": "execute_result"
        }
      ],
      "source": [
        "df_train1.describe(), df_train2.describe()"
      ]
    },
    {
      "cell_type": "markdown",
      "metadata": {
        "id": "qYgLT6E72RY0"
      },
      "source": [
        "## Calidad de los datos"
      ]
    },
    {
      "cell_type": "code",
      "execution_count": 10,
      "metadata": {
        "id": "LZPJBL8W2RY0"
      },
      "outputs": [],
      "source": [
        "df_model_1=df_train1.copy()\n",
        "df_model_2=df_train2.copy()"
      ]
    },
    {
      "cell_type": "markdown",
      "metadata": {
        "id": "A9nxTEEt2RY1"
      },
      "source": [
        "### Completitud"
      ]
    },
    {
      "cell_type": "code",
      "execution_count": 11,
      "metadata": {
        "id": "N4FpXJYe2RY1",
        "outputId": "3dfdf38e-a643-40c7-eac7-ff74abbb249f"
      },
      "outputs": [
        {
          "data": {
            "text/plain": [
              "Review    0.0\n",
              "Class     0.0\n",
              "dtype: float64"
            ]
          },
          "execution_count": 11,
          "metadata": {},
          "output_type": "execute_result"
        }
      ],
      "source": [
        "# Cálculo de porcentaje de valores nulos por columna\n",
        "((df_model_1.isnull().sum()/df_model_1.shape[0])).sort_values(ascending=False)"
      ]
    },
    {
      "cell_type": "code",
      "execution_count": 12,
      "metadata": {
        "id": "CCSPRPwa2RY2",
        "outputId": "faca96f9-c51c-4954-a0fe-63a472d8fdc1"
      },
      "outputs": [
        {
          "data": {
            "text/plain": [
              "Review    0.0\n",
              "Class     0.0\n",
              "dtype: float64"
            ]
          },
          "execution_count": 12,
          "metadata": {},
          "output_type": "execute_result"
        }
      ],
      "source": [
        "# Cálculo de porcentaje de valores nulos por columna\n",
        "((df_model_2.isnull().sum()/df_model_2.shape[0])).sort_values(ascending=False)"
      ]
    },
    {
      "cell_type": "markdown",
      "metadata": {
        "id": "pYh-faak2RY2"
      },
      "source": [
        "### Unicidad"
      ]
    },
    {
      "cell_type": "code",
      "execution_count": 13,
      "metadata": {
        "id": "2TCVK-oh2RY2",
        "outputId": "37107554-4ef0-40e7-d462-0bd00ae8b45f"
      },
      "outputs": [
        {
          "data": {
            "text/plain": [
              "109"
            ]
          },
          "execution_count": 13,
          "metadata": {},
          "output_type": "execute_result"
        }
      ],
      "source": [
        "df_model_1.duplicated(keep = False).sum()"
      ]
    },
    {
      "cell_type": "code",
      "execution_count": 14,
      "metadata": {
        "id": "-AWS-rvw2RY3",
        "outputId": "be63129b-fe34-453c-e659-52015bbc3540"
      },
      "outputs": [
        {
          "data": {
            "text/plain": [
              "102"
            ]
          },
          "execution_count": 14,
          "metadata": {},
          "output_type": "execute_result"
        }
      ],
      "source": [
        "df_model_2.duplicated(keep = False).sum()"
      ]
    },
    {
      "cell_type": "code",
      "execution_count": 15,
      "metadata": {
        "id": "GEWUSYoY2RY3"
      },
      "outputs": [],
      "source": [
        "df_model_1.drop_duplicates(keep = 'first', inplace = True)\n",
        "df_model_2.drop_duplicates(keep = 'first', inplace = True)"
      ]
    },
    {
      "cell_type": "code",
      "execution_count": 16,
      "metadata": {
        "id": "nJlorh2C2RY3",
        "outputId": "af7a8b66-1ac2-43ac-c6ab-696d28c20065"
      },
      "outputs": [
        {
          "data": {
            "text/plain": [
              "0"
            ]
          },
          "execution_count": 16,
          "metadata": {},
          "output_type": "execute_result"
        }
      ],
      "source": [
        "df_model_1.duplicated(keep = False).sum()"
      ]
    },
    {
      "cell_type": "code",
      "execution_count": 17,
      "metadata": {
        "id": "y-uVl6sb2RY3",
        "outputId": "cc12667e-babc-4b98-8c6a-5ce7bfdb4725"
      },
      "outputs": [
        {
          "data": {
            "text/plain": [
              "0"
            ]
          },
          "execution_count": 17,
          "metadata": {},
          "output_type": "execute_result"
        }
      ],
      "source": [
        "df_model_2.duplicated(keep = False).sum()"
      ]
    },
    {
      "cell_type": "markdown",
      "metadata": {
        "id": "T7BhydZH2RY3"
      },
      "source": [
        "### Consistencia"
      ]
    },
    {
      "cell_type": "code",
      "execution_count": 18,
      "metadata": {
        "id": "zOi1dSkC2RY4",
        "outputId": "872dac7e-1fe3-42d3-c8ee-9d9911111a0e"
      },
      "outputs": [
        {
          "data": {
            "text/plain": [
              "Review\n",
              "Nos alojamos en una casa alquilada en la ciudad amurallada. Parecía tan segura como cualquier otra gran ciudad con un montón de buenos restaurantes, tiendas y vida nocturna. Gran lugar para un grupo con intereses variados, no estoy seguro de que le traiga a los niños aquí sólo porque no hay mucho que hacer para ellos. Asegúrate de aventurarse fuera de la ciudad, pero algunos también es un gran lugar para alojarse                                                                                                                                                                                                                                                                                                                                                                                    1\n",
              "considerando las eventualidades en que nos tocó la estadía (huracán Irma) , el Personal y todos en el hotel muy profesionales , siempre amables y dedicados. excelencia en la atención en todo momento , los desayunos y comidas en general abundantes y variados                                                                                                                                                                                                                                                                                                                                                                                                                                                                                                                                                   1\n",
              "Safi, Safi, Safi, me gusto la ubicacion de el Hotel, la comida, deliciosa. Los empleados siempre listos para ayudar, la resepcion fueron muy atentos con nosotros. Aunque no use la picina, esta hermosa y limpia; la vez y te invita a meterte. com mucho gusto volvere a este hotel, de hoy en adelante es el lugar en Monterrey que sera mi casa cada vez que visite a mi familia. Gracias a los empleados, de nuestra parte.  Gonzalo Herrejon                                                                                                                                                                                                                                                                                                                                                                  1\n",
              "Estuvimos en el Hotel Inglaterra el 6 al 9 de Noviembre del 2013. Decir que su ubicación es excelente es poco. Nos correspondió la habitación 318, la cual era excelente, la recomiendo. En frente teníamos el Teatro con esas imágenes impactantes. El desayuno nos pareció muy bueno, lógicamente hay que acostumbrarse a la comida cubana que nada tiene que ver con la argentina. La camarera de nuestra habitación de primera. Siempre la presentó con la calidez que ellos nos demuestran. Los detalle el Hotel son impresionantes, realmente es un Museo, por sus techos y paredes. Es posible que hallamos tenido suerte en la habitación asignada. Pero yo, que iba con mis reservas, me sentí totalmente a gusto. La terraza es maravillosa, hay paz y tranquilidad. Debo hacer mención del Señor que…    1\n",
              "Demasiadas cosas malas como para escribirlas en 200 caracteres, de las peores experiencias como hotel en los que he estado. No lo recomendaría. Sin luz cortes de agua, sábanas y baño sucio, abren la puerta desde muy temprano, sumamente molesto con todo el servicio.                                                                                                                                                                                                                                                                                                                                                                                                                                                                                                                                           1\n",
              "                                                                                                                                                                                                                                                                                                                                                                                                                                                                                                                                                                                                                                                                                                                                                                                                                   ..\n",
              "Nada de lujos, lo justo para dormir darte un buen baño y ver algo de TV antes de dormir. Tiene un Gym para los que les gusta esto y un servicio de Room Service las 24 hs, tarde un poco y en mi caso llego algo frío, pero estaba rico y con hambre dos veces rico. Aceptable.                                                                                                                                                                                                                                                                                                                                                                                                                                                                                                                                     1\n",
              "Este lugar tiene tanta variedad de platillos que es difícil elegir. Si vas con familia o amigos es mejor pedir dos o tres platillos para compartir y probar mas cosas                                                                                                                                                                                                                                                                                                                                                                                                                                                                                                                                                                                                                                               1\n",
              "En un rincón del centro de la ciudad moderna, se conserva la Bogotá antigua en donde sus calles estrechas y empedradas te hablan de su historia. Pareciera ser que la ciudad se quedó dormida en ese lugar y los años no le han pasado más que para hacerla florecer entre los coloridos balcones y fachadas.                                                                                                                                                                                                                                                                                                                                                                                                                                                                                                       1\n",
              "La Rambla cubana como yo la llamaria, evoca un pedazo de historia al tansportarte por su paseo donde las casas estan detenidas en el tiempo, un coco taxi nos llevo mas despacio de lo que circulan los coches por ahi para poder apreciar toda la belleza del mar golpeando sus costas.                                                                                                                                                                                                                                                                                                                                                                                                                                                                                                                            1\n",
              "Festejando Dia del Amor y Amistad\\n\\nTe remonta a un restaurante o cafetería de Paris. La ambientación y los detalles hacen de este restaurante un lugar cálido para pasar un rato con amigas o una cena romántica.  Las crepas son deliciosas prueba la de manzana...Más                                                                                                                                                                                                                                                                                                                                                                                                                                                                                                                                           1\n",
              "Name: count, Length: 7804, dtype: int64"
            ]
          },
          "execution_count": 18,
          "metadata": {},
          "output_type": "execute_result"
        }
      ],
      "source": [
        "#Se revisa consistencia de las columnas categoricas\n",
        "df_model_1['Review'].value_counts()"
      ]
    },
    {
      "cell_type": "code",
      "execution_count": 19,
      "metadata": {
        "id": "hMwLt_r32RY4",
        "outputId": "f7309b78-004d-46f5-cc23-8a3a5ac0cb8d"
      },
      "outputs": [
        {
          "data": {
            "text/plain": [
              "Review\n",
              "Muy buena atención y aclaración de dudas por parte de la señorita Verónica castillo, atenta y amable en cuestión laborable.  Ideal para descansar muy buenas habitaciónes, limpieza, ordenadas.  Buena comida de parte del restaurante,variedad en comidas                                                                                                                                                                                                                                                                                                                                                                                                                                                          1\n",
              "El sitio es realmente precioso y estimulante. Conseguir un guía y paseo a través del sitio web. llegar allí super pronto porque hace mucho calor y estaba llena de gente. Hay restaurantes en la ciudad y un cenote cerca que escuché vale la pena una visita.                                                                                                                                                                                                                                                                                                                                                                                                                                                      1\n",
              "Simplemente hermoso que digo hermoso majestuoso, la piramide de Kukulkan te dejara sin habla y el cenote sagrado es impresionante, quede totalmente fascinada y maravillada, no pueden dejar de ir a conocer la cultura Maya, eso si no olviden gorra, sombrilla, bloqueador, gafas de sol, ropa y calzado comodo y mucha agua por que el calor y el sol estan tremendos, y recomiendo un guía ya que hay mucho que aprender por cada arqueología.                                                                                                                                                                                                                                                                  1\n",
              "Visitamos en 2014 Diciembre. El conserje y el personal de recepción es muy servicial y eso es importany. Las instalaciones están bien y el desayuno tiene suficiente variedad. Teníamos una habitación con vistas al océano y, a pesar de que estaba anticuado disfrutamos completamente :) ... las vistas eran fantásticas y balcón era grande y rodea ... Ubicado en la parte residencial de La Habana por lo que necesitas un taxi para llegar a la ciudad o volver pero, una vez más, está lo suficientemente cerca para divertirse rápidamente y lo suficientemente lejos para que pueda descansar adecuadamente cuando es necesario. Recomendado para el personal atención, como se mencionó anteriormente    1\n",
              "Este es realmente un destino debe ir cuando cerca. Es simplemente fascinante de ver y oír sobre y aprender, etc. Y no te preocupes por los numerosos vendedores - realmente no molestarte mucho y algunas de ellas tienen quizás tus recuerdos futuros! No encontramos nada agobiante en absoluto.                                                                                                                                                                                                                                                                                                                                                                                                                  1\n",
              "                                                                                                                                                                                                                                                                                                                                                                                                                                                                                                                                                                                                                                                                                                                   ..\n",
              "Una exposición de la comida Regiomontana modernizada, una propuesta que atrae al paladar Regiomontano, ideal para negocios, cenas entre amigos, la coctelería fue minusciosamente elaborada y vale la pena darle la oportunidad.\\nLa comida es lo que caracteriza este lugar y te llena de satisfacción,...Más                                                                                                                                                                                                                                                                                                                                                                                                      1\n",
              "Una desilusión cuando anuncian y no respetan su horario de atención. Llegue con mi familia a la hora anunciada de apertura en internet y no nos dejaron entrar ni siquiera a sentarnos 20 minutos.\\nSu relativo éxito definitivamente los hace insensibles y un poco déspotas.\\nEn lo personal ademas de una buena comida busco siempre una experiencia de servicio especialmente cuando voy con mi familia. Hay muchas alternativas de buenos restaurantes en Vallarta ( comida y servicio), en lo personal voy a continuar visitándolas.\\n\\n                                                                                                                                                                      1\n",
              "Excelente servicio, me gustó la atención de los empleados, buenas bebidas y comidas e instalaciones como gimnasio y piscina jacuzzi, me gusta la exclusividad que hay en la playa, fui asesorado por Camila Herrera super atendido                                                                                                                                                                                                                                                                                                                                                                                                                                                                                  1\n",
              "Es gratis los domingos. Gran colección de oro pre hispana trabajar en América del Sur. Las cámaras están permitidos sin flash. También hay una cafetería, un restaurante y una tienda de recuerdos.                                                                                                                                                                                                                                                                                                                                                                                                                                                                                                                 1\n",
              "Llegamos por casualidad a Los Mercaderes, un grupo grande de varias familias, la comida a todos nos parecio excelente, el ambiente de lo mejor con musica cubana en vivo y muy buen servicio, a pesar de que eramos muchos. La decoracion muy bonita tambien                                                                                                                                                                                                                                                                                                                                                                                                                                                        1\n",
              "Name: count, Length: 7802, dtype: int64"
            ]
          },
          "execution_count": 19,
          "metadata": {},
          "output_type": "execute_result"
        }
      ],
      "source": [
        "df_model_2['Review'].value_counts()"
      ]
    },
    {
      "cell_type": "markdown",
      "metadata": {
        "id": "ltx5bOT12RY4"
      },
      "source": [
        "### Validez"
      ]
    },
    {
      "cell_type": "code",
      "execution_count": 20,
      "metadata": {
        "id": "e8EF6xgy2RY4",
        "outputId": "fed01644-789c-4952-f317-43cf2d3d3aca"
      },
      "outputs": [
        {
          "data": {
            "text/plain": [
              "array(['Nos alojamos en una casa alquilada en la ciudad amurallada. Parecía tan segura como cualquier otra gran ciudad con un montón de buenos restaurantes, tiendas y vida nocturna. Gran lugar para un grupo con intereses variados, no estoy seguro de que le traiga a los niños aquí sólo porque no hay mucho que hacer para ellos. Asegúrate de aventurarse fuera de la ciudad, pero algunos también es un gran lugar para alojarse',\n",
              "       'La comida está bien, pero nada especial. Yo tenía mejor comida Mexcan en los Estados Unidos. Las margaritas eran geniales. El Mahi Mahi pescado recocido y seco. La carne fajitas aceptable y el coco camarones sabroso. El tortilla chips aperitivo fue decepcionante.',\n",
              "       'En mi opinión, no es una como muchos usuarios reclaman. Es un gran paladar que parece ser una parada con muchos grupos de excursión. El menú es más interesante que los otros restaurantes comimos en. La parte más interesante de la experiencia es que el...edificio está en una sección de La Habana Centro. Las plantas inferiores están muy deteriorados, y tienen apartamentos donde viven muchos trabajadores de restaurante. Los pisos superiores, donde el restaurante es, han sido restauradas a gloria pasada. Las reservas son imprescindibles. Plan de 40 a 50 CUC por persona para una comida con cócteles y vinos.Más',\n",
              "       ...,\n",
              "       'Si vas a Mérida no puedes perderte de este lugar y que tiene una nueva sucursal más amplia y con la misma calidad, excelente servicio y comida deliciosa y bien servida.',\n",
              "       'Este imperdible sitio, que lleva el nombre del conquistador, es una joya urbana.Su amplitud para  el tráfico local motorizado evita congestionamietos,  a ambos lados una amplia zona  para corredores o simples caminadores  llena de pequeños cafés, restaurantes y bares para todos los gustos. Me impresionó la limpieza, la tranquilidad que en nuestros días es un privilegio y AUSENCIA DE GRAFITI.  qUE HERMOSURA ES IMPERDIBLE.',\n",
              "       'Festejando Dia del Amor y Amistad\\n\\nTe remonta a un restaurante o cafetería de Paris. La ambientación y los detalles hacen de este restaurante un lugar cálido para pasar un rato con amigas o una cena romántica.  Las crepas son deliciosas prueba la de manzana...Más'],\n",
              "      dtype=object)"
            ]
          },
          "execution_count": 20,
          "metadata": {},
          "output_type": "execute_result"
        }
      ],
      "source": [
        "df_model_1['Review'].unique()"
      ]
    },
    {
      "cell_type": "code",
      "execution_count": 21,
      "metadata": {
        "id": "164YKrdH2RY4",
        "outputId": "527d6f5c-5992-4158-94df-81e253ec9b3e"
      },
      "outputs": [
        {
          "data": {
            "text/plain": [
              "array(['Muy buena atención y aclaración de dudas por parte de la señorita Verónica castillo, atenta y amable en cuestión laborable.  Ideal para descansar muy buenas habitaciónes, limpieza, ordenadas.  Buena comida de parte del restaurante,variedad en comidas  ',\n",
              "       'Buen hotel si están obligados a estar cerca del centro de convenciones, pero el restaurante necesita mejorar! Frío y café flojo - y - un montón de pan de personas que sirve unos uderstanding de bu lo que significa un servicio. En este barrio con tan pocas opciones - debería ser un hotel especial.',\n",
              "       'Es un lugar muy lindo para fotografías, visiten Selina, música en vivo, cerveza artesanal y buena comida',\n",
              "       ...,\n",
              "       'La Plaza de la Revolución es un lugar emblemático que un poco que identifica a la Habana a partir de la segunda mitad del siglo XX, ya que es alli donde se han producido la mayoría los principales discursos de los lideres de la Revolución Cubana. Ademas esta rodeada de varios edificios majestuosos donde radican algunos de los Organismos de la Administración Central del Estado, asi como la sede del Consejo de Estado y de Ministros y el Comité Central del Partido Comunista de Cuba. Tambien ha hecho historia por ser el lugar donde los 3 Papas que han visitado a Cuba han realizado sus misas, y por los Megaconciertos que allí se han realizado tanto por artistas cubanos como extranjeros como es el caso del Concierto por la Paz que agrupó a mas de un millon de personas alli',\n",
              "       'Es la segunda ocasión que me quedo en los cuartos del area de Jardín, todo muy cómodo menos el internet. El internet no funciona en el area de alberca y cuartos del jardín. Lo reporte 3 veces y nunca lo arreglaron, tenia mucha necesidad de terminar cosas del trabajo y me tuve que ir a un Starbucks porque mi hotel 5 estrellas no tenia. Pedi cambio de cuarto al area de torres pero me dijeron que no tenían ni un cuarto mas y eso que me ofrecí a pagar la diferencia. La primera vez que me quede en este hotel el internet no funciono, pensé que era situación de un solo día y decidí darle otra oportunidad. No lo vuelvo hacer, he aprendido mi lección. ',\n",
              "       'Llegamos por casualidad a Los Mercaderes, un grupo grande de varias familias, la comida a todos nos parecio excelente, el ambiente de lo mejor con musica cubana en vivo y muy buen servicio, a pesar de que eramos muchos. La decoracion muy bonita tambien'],\n",
              "      dtype=object)"
            ]
          },
          "execution_count": 21,
          "metadata": {},
          "output_type": "execute_result"
        }
      ],
      "source": [
        "df_model_2['Review'].unique()"
      ]
    },
    {
      "cell_type": "markdown",
      "metadata": {
        "id": "RSIElACU2RY5"
      },
      "source": [
        "# Modelamiento"
      ]
    },
    {
      "cell_type": "markdown",
      "metadata": {
        "id": "apGSAPYa2RY5"
      },
      "source": [
        "## Modelo de Regresión logística - Santiago Ramírez"
      ]
    },
    {
      "cell_type": "markdown",
      "metadata": {
        "id": "N05Kw3JL2RY5"
      },
      "source": [
        "### Preparamiento de los datos"
      ]
    },
    {
      "cell_type": "code",
      "execution_count": 22,
      "metadata": {
        "id": "5FOFIZx82RY5",
        "outputId": "ba572656-1b5d-4f0e-dfed-87ebf3206767"
      },
      "outputs": [
        {
          "name": "stderr",
          "output_type": "stream",
          "text": [
            "[nltk_data] Downloading package stopwords to\n",
            "[nltk_data]     C:\\Users\\mario\\AppData\\Roaming\\nltk_data...\n",
            "[nltk_data]   Package stopwords is already up-to-date!\n"
          ]
        }
      ],
      "source": [
        "# Descargar las stopwords en español\n",
        "nltk.download('stopwords')\n",
        "\n",
        "# Crear el stemmer en español\n",
        "stemmer = SnowballStemmer('spanish')\n",
        "\n",
        "# Crear la lista de stopwords en español\n",
        "stopwords_es = set(stopwords.words('spanish'))\n",
        "\n",
        "def preprocess_review(review):\n",
        "    # Convertir a minúsculas\n",
        "    review = review.lower()\n",
        "\n",
        "    # Eliminar caracteres especiales\n",
        "    review = re.sub(r'\\W', ' ', review)\n",
        "\n",
        "    # Eliminar palabras vacías y realizar stemming\n",
        "    review = [stemmer.stem(word) for word in review.split() if word not in stopwords_es]\n",
        "\n",
        "    return ' '.join(review)\n",
        "\n",
        "# Preprocesar todas las reseñas\n",
        "preprocessed_reviews_1 = [preprocess_review(review) for review in df_model_1['Review']]\n",
        "preprocessed_reviews_2 = [preprocess_review(review) for review in df_model_2['Review']]"
      ]
    },
    {
      "cell_type": "markdown",
      "metadata": {
        "id": "oT792dqK2RY6"
      },
      "source": [
        "### Construcción del modelo"
      ]
    },
    {
      "cell_type": "code",
      "execution_count": 23,
      "metadata": {
        "id": "496-PQd32RY6"
      },
      "outputs": [],
      "source": [
        "# Crear el vectorizador TF-IDF\n",
        "vectorizer = TfidfVectorizer()\n",
        "\n",
        "# Aplicar el vectorizador a las reseñas preprocesadas\n",
        "tfidf_reviews_1 = vectorizer.fit_transform(preprocessed_reviews_1)\n",
        "tfidf_reviews_2 = vectorizer.transform(preprocessed_reviews_2)"
      ]
    },
    {
      "cell_type": "code",
      "execution_count": 24,
      "metadata": {
        "id": "zhBoVdIj2RY6"
      },
      "outputs": [],
      "source": [
        "# Los puntajes de las reseñas para cada grupo de datos\n",
        "labels_1 = df_model_1['Class'].tolist()\n",
        "labels_2 = df_model_2['Class'].tolist()\n",
        "\n",
        "# Concatenar las matrices TF-IDF y las etiquetas\n",
        "tfidf_reviews = vstack([tfidf_reviews_1, tfidf_reviews_2])\n",
        "labels = labels_1 + labels_2\n",
        "\n",
        "# Dividir los datos en conjuntos de entrenamiento y prueba\n",
        "X_train, X_test, y_train, y_test = train_test_split(tfidf_reviews, labels, test_size=0.2, random_state=0)"
      ]
    },
    {
      "cell_type": "code",
      "execution_count": 25,
      "metadata": {
        "id": "WFBJwvxj2RY6",
        "outputId": "6ecc4997-0a61-43bb-a4fa-093007a3a7f5"
      },
      "outputs": [
        {
          "data": {
            "text/html": [
              "<style>#sk-container-id-1 {\n",
              "  /* Definition of color scheme common for light and dark mode */\n",
              "  --sklearn-color-text: black;\n",
              "  --sklearn-color-line: gray;\n",
              "  /* Definition of color scheme for unfitted estimators */\n",
              "  --sklearn-color-unfitted-level-0: #fff5e6;\n",
              "  --sklearn-color-unfitted-level-1: #f6e4d2;\n",
              "  --sklearn-color-unfitted-level-2: #ffe0b3;\n",
              "  --sklearn-color-unfitted-level-3: chocolate;\n",
              "  /* Definition of color scheme for fitted estimators */\n",
              "  --sklearn-color-fitted-level-0: #f0f8ff;\n",
              "  --sklearn-color-fitted-level-1: #d4ebff;\n",
              "  --sklearn-color-fitted-level-2: #b3dbfd;\n",
              "  --sklearn-color-fitted-level-3: cornflowerblue;\n",
              "\n",
              "  /* Specific color for light theme */\n",
              "  --sklearn-color-text-on-default-background: var(--sg-text-color, var(--theme-code-foreground, var(--jp-content-font-color1, black)));\n",
              "  --sklearn-color-background: var(--sg-background-color, var(--theme-background, var(--jp-layout-color0, white)));\n",
              "  --sklearn-color-border-box: var(--sg-text-color, var(--theme-code-foreground, var(--jp-content-font-color1, black)));\n",
              "  --sklearn-color-icon: #696969;\n",
              "\n",
              "  @media (prefers-color-scheme: dark) {\n",
              "    /* Redefinition of color scheme for dark theme */\n",
              "    --sklearn-color-text-on-default-background: var(--sg-text-color, var(--theme-code-foreground, var(--jp-content-font-color1, white)));\n",
              "    --sklearn-color-background: var(--sg-background-color, var(--theme-background, var(--jp-layout-color0, #111)));\n",
              "    --sklearn-color-border-box: var(--sg-text-color, var(--theme-code-foreground, var(--jp-content-font-color1, white)));\n",
              "    --sklearn-color-icon: #878787;\n",
              "  }\n",
              "}\n",
              "\n",
              "#sk-container-id-1 {\n",
              "  color: var(--sklearn-color-text);\n",
              "}\n",
              "\n",
              "#sk-container-id-1 pre {\n",
              "  padding: 0;\n",
              "}\n",
              "\n",
              "#sk-container-id-1 input.sk-hidden--visually {\n",
              "  border: 0;\n",
              "  clip: rect(1px 1px 1px 1px);\n",
              "  clip: rect(1px, 1px, 1px, 1px);\n",
              "  height: 1px;\n",
              "  margin: -1px;\n",
              "  overflow: hidden;\n",
              "  padding: 0;\n",
              "  position: absolute;\n",
              "  width: 1px;\n",
              "}\n",
              "\n",
              "#sk-container-id-1 div.sk-dashed-wrapped {\n",
              "  border: 1px dashed var(--sklearn-color-line);\n",
              "  margin: 0 0.4em 0.5em 0.4em;\n",
              "  box-sizing: border-box;\n",
              "  padding-bottom: 0.4em;\n",
              "  background-color: var(--sklearn-color-background);\n",
              "}\n",
              "\n",
              "#sk-container-id-1 div.sk-container {\n",
              "  /* jupyter's `normalize.less` sets `[hidden] { display: none; }`\n",
              "     but bootstrap.min.css set `[hidden] { display: none !important; }`\n",
              "     so we also need the `!important` here to be able to override the\n",
              "     default hidden behavior on the sphinx rendered scikit-learn.org.\n",
              "     See: https://github.com/scikit-learn/scikit-learn/issues/21755 */\n",
              "  display: inline-block !important;\n",
              "  position: relative;\n",
              "}\n",
              "\n",
              "#sk-container-id-1 div.sk-text-repr-fallback {\n",
              "  display: none;\n",
              "}\n",
              "\n",
              "div.sk-parallel-item,\n",
              "div.sk-serial,\n",
              "div.sk-item {\n",
              "  /* draw centered vertical line to link estimators */\n",
              "  background-image: linear-gradient(var(--sklearn-color-text-on-default-background), var(--sklearn-color-text-on-default-background));\n",
              "  background-size: 2px 100%;\n",
              "  background-repeat: no-repeat;\n",
              "  background-position: center center;\n",
              "}\n",
              "\n",
              "/* Parallel-specific style estimator block */\n",
              "\n",
              "#sk-container-id-1 div.sk-parallel-item::after {\n",
              "  content: \"\";\n",
              "  width: 100%;\n",
              "  border-bottom: 2px solid var(--sklearn-color-text-on-default-background);\n",
              "  flex-grow: 1;\n",
              "}\n",
              "\n",
              "#sk-container-id-1 div.sk-parallel {\n",
              "  display: flex;\n",
              "  align-items: stretch;\n",
              "  justify-content: center;\n",
              "  background-color: var(--sklearn-color-background);\n",
              "  position: relative;\n",
              "}\n",
              "\n",
              "#sk-container-id-1 div.sk-parallel-item {\n",
              "  display: flex;\n",
              "  flex-direction: column;\n",
              "}\n",
              "\n",
              "#sk-container-id-1 div.sk-parallel-item:first-child::after {\n",
              "  align-self: flex-end;\n",
              "  width: 50%;\n",
              "}\n",
              "\n",
              "#sk-container-id-1 div.sk-parallel-item:last-child::after {\n",
              "  align-self: flex-start;\n",
              "  width: 50%;\n",
              "}\n",
              "\n",
              "#sk-container-id-1 div.sk-parallel-item:only-child::after {\n",
              "  width: 0;\n",
              "}\n",
              "\n",
              "/* Serial-specific style estimator block */\n",
              "\n",
              "#sk-container-id-1 div.sk-serial {\n",
              "  display: flex;\n",
              "  flex-direction: column;\n",
              "  align-items: center;\n",
              "  background-color: var(--sklearn-color-background);\n",
              "  padding-right: 1em;\n",
              "  padding-left: 1em;\n",
              "}\n",
              "\n",
              "\n",
              "/* Toggleable style: style used for estimator/Pipeline/ColumnTransformer box that is\n",
              "clickable and can be expanded/collapsed.\n",
              "- Pipeline and ColumnTransformer use this feature and define the default style\n",
              "- Estimators will overwrite some part of the style using the `sk-estimator` class\n",
              "*/\n",
              "\n",
              "/* Pipeline and ColumnTransformer style (default) */\n",
              "\n",
              "#sk-container-id-1 div.sk-toggleable {\n",
              "  /* Default theme specific background. It is overwritten whether we have a\n",
              "  specific estimator or a Pipeline/ColumnTransformer */\n",
              "  background-color: var(--sklearn-color-background);\n",
              "}\n",
              "\n",
              "/* Toggleable label */\n",
              "#sk-container-id-1 label.sk-toggleable__label {\n",
              "  cursor: pointer;\n",
              "  display: block;\n",
              "  width: 100%;\n",
              "  margin-bottom: 0;\n",
              "  padding: 0.5em;\n",
              "  box-sizing: border-box;\n",
              "  text-align: center;\n",
              "}\n",
              "\n",
              "#sk-container-id-1 label.sk-toggleable__label-arrow:before {\n",
              "  /* Arrow on the left of the label */\n",
              "  content: \"▸\";\n",
              "  float: left;\n",
              "  margin-right: 0.25em;\n",
              "  color: var(--sklearn-color-icon);\n",
              "}\n",
              "\n",
              "#sk-container-id-1 label.sk-toggleable__label-arrow:hover:before {\n",
              "  color: var(--sklearn-color-text);\n",
              "}\n",
              "\n",
              "/* Toggleable content - dropdown */\n",
              "\n",
              "#sk-container-id-1 div.sk-toggleable__content {\n",
              "  max-height: 0;\n",
              "  max-width: 0;\n",
              "  overflow: hidden;\n",
              "  text-align: left;\n",
              "  /* unfitted */\n",
              "  background-color: var(--sklearn-color-unfitted-level-0);\n",
              "}\n",
              "\n",
              "#sk-container-id-1 div.sk-toggleable__content.fitted {\n",
              "  /* fitted */\n",
              "  background-color: var(--sklearn-color-fitted-level-0);\n",
              "}\n",
              "\n",
              "#sk-container-id-1 div.sk-toggleable__content pre {\n",
              "  margin: 0.2em;\n",
              "  border-radius: 0.25em;\n",
              "  color: var(--sklearn-color-text);\n",
              "  /* unfitted */\n",
              "  background-color: var(--sklearn-color-unfitted-level-0);\n",
              "}\n",
              "\n",
              "#sk-container-id-1 div.sk-toggleable__content.fitted pre {\n",
              "  /* unfitted */\n",
              "  background-color: var(--sklearn-color-fitted-level-0);\n",
              "}\n",
              "\n",
              "#sk-container-id-1 input.sk-toggleable__control:checked~div.sk-toggleable__content {\n",
              "  /* Expand drop-down */\n",
              "  max-height: 200px;\n",
              "  max-width: 100%;\n",
              "  overflow: auto;\n",
              "}\n",
              "\n",
              "#sk-container-id-1 input.sk-toggleable__control:checked~label.sk-toggleable__label-arrow:before {\n",
              "  content: \"▾\";\n",
              "}\n",
              "\n",
              "/* Pipeline/ColumnTransformer-specific style */\n",
              "\n",
              "#sk-container-id-1 div.sk-label input.sk-toggleable__control:checked~label.sk-toggleable__label {\n",
              "  color: var(--sklearn-color-text);\n",
              "  background-color: var(--sklearn-color-unfitted-level-2);\n",
              "}\n",
              "\n",
              "#sk-container-id-1 div.sk-label.fitted input.sk-toggleable__control:checked~label.sk-toggleable__label {\n",
              "  background-color: var(--sklearn-color-fitted-level-2);\n",
              "}\n",
              "\n",
              "/* Estimator-specific style */\n",
              "\n",
              "/* Colorize estimator box */\n",
              "#sk-container-id-1 div.sk-estimator input.sk-toggleable__control:checked~label.sk-toggleable__label {\n",
              "  /* unfitted */\n",
              "  background-color: var(--sklearn-color-unfitted-level-2);\n",
              "}\n",
              "\n",
              "#sk-container-id-1 div.sk-estimator.fitted input.sk-toggleable__control:checked~label.sk-toggleable__label {\n",
              "  /* fitted */\n",
              "  background-color: var(--sklearn-color-fitted-level-2);\n",
              "}\n",
              "\n",
              "#sk-container-id-1 div.sk-label label.sk-toggleable__label,\n",
              "#sk-container-id-1 div.sk-label label {\n",
              "  /* The background is the default theme color */\n",
              "  color: var(--sklearn-color-text-on-default-background);\n",
              "}\n",
              "\n",
              "/* On hover, darken the color of the background */\n",
              "#sk-container-id-1 div.sk-label:hover label.sk-toggleable__label {\n",
              "  color: var(--sklearn-color-text);\n",
              "  background-color: var(--sklearn-color-unfitted-level-2);\n",
              "}\n",
              "\n",
              "/* Label box, darken color on hover, fitted */\n",
              "#sk-container-id-1 div.sk-label.fitted:hover label.sk-toggleable__label.fitted {\n",
              "  color: var(--sklearn-color-text);\n",
              "  background-color: var(--sklearn-color-fitted-level-2);\n",
              "}\n",
              "\n",
              "/* Estimator label */\n",
              "\n",
              "#sk-container-id-1 div.sk-label label {\n",
              "  font-family: monospace;\n",
              "  font-weight: bold;\n",
              "  display: inline-block;\n",
              "  line-height: 1.2em;\n",
              "}\n",
              "\n",
              "#sk-container-id-1 div.sk-label-container {\n",
              "  text-align: center;\n",
              "}\n",
              "\n",
              "/* Estimator-specific */\n",
              "#sk-container-id-1 div.sk-estimator {\n",
              "  font-family: monospace;\n",
              "  border: 1px dotted var(--sklearn-color-border-box);\n",
              "  border-radius: 0.25em;\n",
              "  box-sizing: border-box;\n",
              "  margin-bottom: 0.5em;\n",
              "  /* unfitted */\n",
              "  background-color: var(--sklearn-color-unfitted-level-0);\n",
              "}\n",
              "\n",
              "#sk-container-id-1 div.sk-estimator.fitted {\n",
              "  /* fitted */\n",
              "  background-color: var(--sklearn-color-fitted-level-0);\n",
              "}\n",
              "\n",
              "/* on hover */\n",
              "#sk-container-id-1 div.sk-estimator:hover {\n",
              "  /* unfitted */\n",
              "  background-color: var(--sklearn-color-unfitted-level-2);\n",
              "}\n",
              "\n",
              "#sk-container-id-1 div.sk-estimator.fitted:hover {\n",
              "  /* fitted */\n",
              "  background-color: var(--sklearn-color-fitted-level-2);\n",
              "}\n",
              "\n",
              "/* Specification for estimator info (e.g. \"i\" and \"?\") */\n",
              "\n",
              "/* Common style for \"i\" and \"?\" */\n",
              "\n",
              ".sk-estimator-doc-link,\n",
              "a:link.sk-estimator-doc-link,\n",
              "a:visited.sk-estimator-doc-link {\n",
              "  float: right;\n",
              "  font-size: smaller;\n",
              "  line-height: 1em;\n",
              "  font-family: monospace;\n",
              "  background-color: var(--sklearn-color-background);\n",
              "  border-radius: 1em;\n",
              "  height: 1em;\n",
              "  width: 1em;\n",
              "  text-decoration: none !important;\n",
              "  margin-left: 1ex;\n",
              "  /* unfitted */\n",
              "  border: var(--sklearn-color-unfitted-level-1) 1pt solid;\n",
              "  color: var(--sklearn-color-unfitted-level-1);\n",
              "}\n",
              "\n",
              ".sk-estimator-doc-link.fitted,\n",
              "a:link.sk-estimator-doc-link.fitted,\n",
              "a:visited.sk-estimator-doc-link.fitted {\n",
              "  /* fitted */\n",
              "  border: var(--sklearn-color-fitted-level-1) 1pt solid;\n",
              "  color: var(--sklearn-color-fitted-level-1);\n",
              "}\n",
              "\n",
              "/* On hover */\n",
              "div.sk-estimator:hover .sk-estimator-doc-link:hover,\n",
              ".sk-estimator-doc-link:hover,\n",
              "div.sk-label-container:hover .sk-estimator-doc-link:hover,\n",
              ".sk-estimator-doc-link:hover {\n",
              "  /* unfitted */\n",
              "  background-color: var(--sklearn-color-unfitted-level-3);\n",
              "  color: var(--sklearn-color-background);\n",
              "  text-decoration: none;\n",
              "}\n",
              "\n",
              "div.sk-estimator.fitted:hover .sk-estimator-doc-link.fitted:hover,\n",
              ".sk-estimator-doc-link.fitted:hover,\n",
              "div.sk-label-container:hover .sk-estimator-doc-link.fitted:hover,\n",
              ".sk-estimator-doc-link.fitted:hover {\n",
              "  /* fitted */\n",
              "  background-color: var(--sklearn-color-fitted-level-3);\n",
              "  color: var(--sklearn-color-background);\n",
              "  text-decoration: none;\n",
              "}\n",
              "\n",
              "/* Span, style for the box shown on hovering the info icon */\n",
              ".sk-estimator-doc-link span {\n",
              "  display: none;\n",
              "  z-index: 9999;\n",
              "  position: relative;\n",
              "  font-weight: normal;\n",
              "  right: .2ex;\n",
              "  padding: .5ex;\n",
              "  margin: .5ex;\n",
              "  width: min-content;\n",
              "  min-width: 20ex;\n",
              "  max-width: 50ex;\n",
              "  color: var(--sklearn-color-text);\n",
              "  box-shadow: 2pt 2pt 4pt #999;\n",
              "  /* unfitted */\n",
              "  background: var(--sklearn-color-unfitted-level-0);\n",
              "  border: .5pt solid var(--sklearn-color-unfitted-level-3);\n",
              "}\n",
              "\n",
              ".sk-estimator-doc-link.fitted span {\n",
              "  /* fitted */\n",
              "  background: var(--sklearn-color-fitted-level-0);\n",
              "  border: var(--sklearn-color-fitted-level-3);\n",
              "}\n",
              "\n",
              ".sk-estimator-doc-link:hover span {\n",
              "  display: block;\n",
              "}\n",
              "\n",
              "/* \"?\"-specific style due to the `<a>` HTML tag */\n",
              "\n",
              "#sk-container-id-1 a.estimator_doc_link {\n",
              "  float: right;\n",
              "  font-size: 1rem;\n",
              "  line-height: 1em;\n",
              "  font-family: monospace;\n",
              "  background-color: var(--sklearn-color-background);\n",
              "  border-radius: 1rem;\n",
              "  height: 1rem;\n",
              "  width: 1rem;\n",
              "  text-decoration: none;\n",
              "  /* unfitted */\n",
              "  color: var(--sklearn-color-unfitted-level-1);\n",
              "  border: var(--sklearn-color-unfitted-level-1) 1pt solid;\n",
              "}\n",
              "\n",
              "#sk-container-id-1 a.estimator_doc_link.fitted {\n",
              "  /* fitted */\n",
              "  border: var(--sklearn-color-fitted-level-1) 1pt solid;\n",
              "  color: var(--sklearn-color-fitted-level-1);\n",
              "}\n",
              "\n",
              "/* On hover */\n",
              "#sk-container-id-1 a.estimator_doc_link:hover {\n",
              "  /* unfitted */\n",
              "  background-color: var(--sklearn-color-unfitted-level-3);\n",
              "  color: var(--sklearn-color-background);\n",
              "  text-decoration: none;\n",
              "}\n",
              "\n",
              "#sk-container-id-1 a.estimator_doc_link.fitted:hover {\n",
              "  /* fitted */\n",
              "  background-color: var(--sklearn-color-fitted-level-3);\n",
              "}\n",
              "</style><div id=\"sk-container-id-1\" class=\"sk-top-container\"><div class=\"sk-text-repr-fallback\"><pre>LogisticRegression(max_iter=1000)</pre><b>In a Jupyter environment, please rerun this cell to show the HTML representation or trust the notebook. <br />On GitHub, the HTML representation is unable to render, please try loading this page with nbviewer.org.</b></div><div class=\"sk-container\" hidden><div class=\"sk-item\"><div class=\"sk-estimator fitted sk-toggleable\"><input class=\"sk-toggleable__control sk-hidden--visually\" id=\"sk-estimator-id-1\" type=\"checkbox\" checked><label for=\"sk-estimator-id-1\" class=\"sk-toggleable__label fitted sk-toggleable__label-arrow fitted\">&nbsp;&nbsp;LogisticRegression<a class=\"sk-estimator-doc-link fitted\" rel=\"noreferrer\" target=\"_blank\" href=\"https://scikit-learn.org/1.4/modules/generated/sklearn.linear_model.LogisticRegression.html\">?<span>Documentation for LogisticRegression</span></a><span class=\"sk-estimator-doc-link fitted\">i<span>Fitted</span></span></label><div class=\"sk-toggleable__content fitted\"><pre>LogisticRegression(max_iter=1000)</pre></div> </div></div></div></div>"
            ],
            "text/plain": [
              "LogisticRegression(max_iter=1000)"
            ]
          },
          "execution_count": 25,
          "metadata": {},
          "output_type": "execute_result"
        }
      ],
      "source": [
        "# Crear el modelo de regresión logística\n",
        "model = LogisticRegression(max_iter=1000)\n",
        "\n",
        "# Entrenar el modelo con los datos de entrenamiento\n",
        "model.fit(X_train, y_train)"
      ]
    },
    {
      "cell_type": "markdown",
      "metadata": {
        "id": "CNqwGWgt2RY7"
      },
      "source": [
        "### Validación del modelo"
      ]
    },
    {
      "cell_type": "code",
      "execution_count": 26,
      "metadata": {
        "id": "ed7s9REk2RY_",
        "outputId": "efedf097-9a6d-4625-b59d-4100ba350861"
      },
      "outputs": [
        {
          "name": "stdout",
          "output_type": "stream",
          "text": [
            "Accuracy: 0.4951953875720692\n",
            "Recall: 0.45990329281665543\n",
            "              precision    recall  f1-score   support\n",
            "\n",
            "           1       0.59      0.38      0.46       322\n",
            "           2       0.41      0.40      0.40       452\n",
            "           3       0.41      0.38      0.40       617\n",
            "           4       0.43      0.43      0.43       788\n",
            "           5       0.60      0.71      0.65       943\n",
            "\n",
            "    accuracy                           0.50      3122\n",
            "   macro avg       0.49      0.46      0.47      3122\n",
            "weighted avg       0.49      0.50      0.49      3122\n",
            "\n"
          ]
        }
      ],
      "source": [
        "# Predecir las etiquetas para el conjunto de prueba\n",
        "y_pred = model.predict(X_test)\n",
        "\n",
        "# Calcular la precisión del modelo\n",
        "accuracy = accuracy_score(y_test, y_pred)\n",
        "\n",
        "# Calcular la sensibilidad del modelo\n",
        "recall = recall_score(y_test, y_pred, average='macro')\n",
        "\n",
        "print(f'Accuracy: {accuracy}')\n",
        "print(f'Recall: {recall}')\n",
        "\n",
        "# Un informe detallado de clasificación\n",
        "print(classification_report(y_test, y_pred))"
      ]
    },
    {
      "cell_type": "markdown",
      "metadata": {
        "id": "a4FeLDNS2RY_"
      },
      "source": [
        "### Entendimiento del modelo"
      ]
    },
    {
      "cell_type": "code",
      "execution_count": 27,
      "metadata": {
        "id": "20B5qEeT2RZA",
        "outputId": "8c944abc-4b89-48cb-ac62-23b7be8938e6"
      },
      "outputs": [
        {
          "name": "stdout",
          "output_type": "stream",
          "text": [
            "Class 1: ['dec', 'ningun', 'terribl', 'cucarach', 'rob', 'horribl', 'suci', 'mal', 'peor', 'pesim']\n",
            "Class 2: ['sabor', 'car', 'des', 'suci', 'desgraci', 'siqu', 'pobr', 'parec', 'decepcion', 'mal']\n",
            "Class 3: ['bien', 'buen', 'men', 'bastant', 'falt', 'demasi', 'pareci', 'regul', 'embarg', 'normal']\n",
            "Class 4: ['unic', 'limpi', 'histori', 'agrad', 'estupend', 'disfrut', 'bien', 'excelent', 'comod', 'buen']\n",
            "Class 5: ['gran', 'sup', 'hermos', 'perfect', 'maravill', 'recomend', 'encant', 'increibl', 'delici', 'excelent']\n"
          ]
        }
      ],
      "source": [
        "# Obtener los nombres de las características (palabras)\n",
        "feature_names = vectorizer.get_feature_names_out()\n",
        "\n",
        "# Obtener los coeficientes del modelo\n",
        "coefficients = model.coef_\n",
        "\n",
        "# Para cada clase, encontrar las 10 palabras con los coeficientes más grandes\n",
        "for i, class_label in enumerate(model.classes_):\n",
        "    top10_indices = coefficients[i].argsort()[-10:]\n",
        "    top10_words = [feature_names[index] for index in top10_indices]\n",
        "    print(f'Class {class_label}: {top10_words}')"
      ]
    },
    {
      "cell_type": "markdown",
      "metadata": {},
      "source": [
        "## Modelo de Random Forest- Mario Alejandro Ruiz\n"
      ]
    },
    {
      "cell_type": "markdown",
      "metadata": {},
      "source": [
        "### Preparamiento de los datos\n"
      ]
    },
    {
      "cell_type": "code",
      "execution_count": 28,
      "metadata": {},
      "outputs": [],
      "source": [
        "\n",
        "# Preprocess the reviews in df_train1\n",
        "preprocessed_reviews_train1 = [\n",
        "    preprocess_review(review) for review in df_train1[\"Review\"]\n",
        "]\n",
        "\n",
        "# Transform the preprocessed reviews into TF-IDF vectors\n",
        "tfidf_reviews_train1 = vectorizer.transform(preprocessed_reviews_train1)\n",
        "\n",
        "# Use the model to predict the labels for these vectors\n",
        "predicted_labels_train1 = model.predict(tfidf_reviews_train1)\n",
        "\n",
        "# Convert the predicted labels to a pandas Series\n",
        "predicted_labels_series = pd.Series(predicted_labels_train1, name=\"Predicted\")\n",
        "\n",
        "# Add the Series as a new column in df_train1\n",
        "df_train1 = pd.concat([df_train1, predicted_labels_series], axis=1)\n",
        "\n",
        "# Save df_train1 to a CSV file\n",
        "df_train1.to_csv(\"train1_with_predictions.csv\", index=False)"
      ]
    }
  ],
  "metadata": {
    "colab": {
      "provenance": []
    },
    "kernelspec": {
      "display_name": "Python 3",
      "language": "python",
      "name": "python3"
    },
    "language_info": {
      "codemirror_mode": {
        "name": "ipython",
        "version": 3
      },
      "file_extension": ".py",
      "mimetype": "text/x-python",
      "name": "python",
      "nbconvert_exporter": "python",
      "pygments_lexer": "ipython3",
      "version": "3.12.2"
    }
  },
  "nbformat": 4,
  "nbformat_minor": 0
}
